{
 "cells": [
  {
   "cell_type": "code",
   "execution_count": 1,
   "id": "1af2828a",
   "metadata": {},
   "outputs": [
    {
     "name": "stderr",
     "output_type": "stream",
     "text": [
      "[nltk_data] Downloading package stopwords to\n",
      "[nltk_data]     /Users/linhtran/nltk_data...\n",
      "[nltk_data]   Package stopwords is already up-to-date!\n",
      "[nltk_data] Downloading package wordnet to\n",
      "[nltk_data]     /Users/linhtran/nltk_data...\n",
      "[nltk_data]   Package wordnet is already up-to-date!\n"
     ]
    }
   ],
   "source": [
    "#import important libraries\n",
    "import pandas as pd\n",
    "import matplotlib.pyplot as plt\n",
    "import numpy as np\n",
    "import seaborn as sns\n",
    "\n",
    "# import libraries for EDA and preprocessing\n",
    "from datetime import datetime\n",
    "import nltk\n",
    "nltk.download('stopwords')\n",
    "from nltk.corpus import stopwords\n",
    "nltk.download('wordnet')\n",
    "from nltk.stem import WordNetLemmatizer\n",
    "\n",
    "# import libraries for modeling\n",
    "from sklearn.model_selection import train_test_split\n",
    "from sklearn.feature_extraction.text import TfidfVectorizer, CountVectorizer\n",
    "from sklearn.decomposition import NMF\n",
    "from sklearn.cluster import KMeans\n",
    "import sklearn.metrics as metrics\n",
    "import itertools\n",
    "from sklearn.neighbors import KNeighborsClassifier\n",
    "from sklearn.ensemble import RandomForestClassifier\n",
    "from sklearn.tree import DecisionTreeClassifier\n",
    "from sklearn.svm import SVC\n",
    "from sklearn.linear_model import LogisticRegression\n",
    "from sklearn.model_selection import GridSearchCV\n",
    "\n",
    "# import libraries for evaluating\n",
    "from sklearn.metrics import confusion_matrix, ConfusionMatrixDisplay\n",
    "from sklearn.model_selection import cross_val_score\n",
    "from sklearn.metrics import mean_squared_error\n",
    "from sklearn.metrics import accuracy_score, recall_score,precision_score, f1_score\n",
    "import time\n"
   ]
  },
  {
   "cell_type": "markdown",
   "id": "871dc953",
   "metadata": {},
   "source": [
    "## Step 1: Gather data, determine the method of data collection and provenance of the data"
   ]
  },
  {
   "cell_type": "markdown",
   "id": "c0300fa0",
   "metadata": {},
   "source": [
    "Fake news is the deliberate spread of misinformation via traditional news media or via social media. False information spreads extraordinarily fast. This is demonstrated by the fact that, when one fake news site is taken down, another will promptly take its place. In addition, fake news can become indistinguishable from accurate reporting since it spreads so fast. People can download articles from sites, share the information, re-share from others and by the end of the day the false information has gone so far from its original site that it becomes indistinguishable from real news (Rubin, Chen, & Conroy, 2016). \n",
    "\n",
    "Thus, detecting false information or fake news can help people get the true stories, good information. In this project, I use data from Kaggle, were downloaded from the link:   https://www.kaggle.com/datasets/clmentbisaillon/fake-and-real-news-dataset  \n",
    "\n",
    "There are two data from this resource, included true and fake data. There are 23481 entries in fake and 21417 entries in true data. There are 4 columns in each data, included: title, text, subject and date. After reading these two data, I will create a new data by concatenating them together for training model later.\n"
   ]
  },
  {
   "cell_type": "code",
   "execution_count": 2,
   "id": "17733b52",
   "metadata": {},
   "outputs": [
    {
     "data": {
      "text/html": [
       "<div>\n",
       "<style scoped>\n",
       "    .dataframe tbody tr th:only-of-type {\n",
       "        vertical-align: middle;\n",
       "    }\n",
       "\n",
       "    .dataframe tbody tr th {\n",
       "        vertical-align: top;\n",
       "    }\n",
       "\n",
       "    .dataframe thead th {\n",
       "        text-align: right;\n",
       "    }\n",
       "</style>\n",
       "<table border=\"1\" class=\"dataframe\">\n",
       "  <thead>\n",
       "    <tr style=\"text-align: right;\">\n",
       "      <th></th>\n",
       "      <th>title</th>\n",
       "      <th>text</th>\n",
       "      <th>subject</th>\n",
       "      <th>date</th>\n",
       "    </tr>\n",
       "  </thead>\n",
       "  <tbody>\n",
       "    <tr>\n",
       "      <th>0</th>\n",
       "      <td>Donald Trump Sends Out Embarrassing New Year’...</td>\n",
       "      <td>Donald Trump just couldn t wish all Americans ...</td>\n",
       "      <td>News</td>\n",
       "      <td>December 31, 2017</td>\n",
       "    </tr>\n",
       "    <tr>\n",
       "      <th>1</th>\n",
       "      <td>Drunk Bragging Trump Staffer Started Russian ...</td>\n",
       "      <td>House Intelligence Committee Chairman Devin Nu...</td>\n",
       "      <td>News</td>\n",
       "      <td>December 31, 2017</td>\n",
       "    </tr>\n",
       "    <tr>\n",
       "      <th>2</th>\n",
       "      <td>Sheriff David Clarke Becomes An Internet Joke...</td>\n",
       "      <td>On Friday, it was revealed that former Milwauk...</td>\n",
       "      <td>News</td>\n",
       "      <td>December 30, 2017</td>\n",
       "    </tr>\n",
       "    <tr>\n",
       "      <th>3</th>\n",
       "      <td>Trump Is So Obsessed He Even Has Obama’s Name...</td>\n",
       "      <td>On Christmas day, Donald Trump announced that ...</td>\n",
       "      <td>News</td>\n",
       "      <td>December 29, 2017</td>\n",
       "    </tr>\n",
       "    <tr>\n",
       "      <th>4</th>\n",
       "      <td>Pope Francis Just Called Out Donald Trump Dur...</td>\n",
       "      <td>Pope Francis used his annual Christmas Day mes...</td>\n",
       "      <td>News</td>\n",
       "      <td>December 25, 2017</td>\n",
       "    </tr>\n",
       "  </tbody>\n",
       "</table>\n",
       "</div>"
      ],
      "text/plain": [
       "                                               title  \\\n",
       "0   Donald Trump Sends Out Embarrassing New Year’...   \n",
       "1   Drunk Bragging Trump Staffer Started Russian ...   \n",
       "2   Sheriff David Clarke Becomes An Internet Joke...   \n",
       "3   Trump Is So Obsessed He Even Has Obama’s Name...   \n",
       "4   Pope Francis Just Called Out Donald Trump Dur...   \n",
       "\n",
       "                                                text subject  \\\n",
       "0  Donald Trump just couldn t wish all Americans ...    News   \n",
       "1  House Intelligence Committee Chairman Devin Nu...    News   \n",
       "2  On Friday, it was revealed that former Milwauk...    News   \n",
       "3  On Christmas day, Donald Trump announced that ...    News   \n",
       "4  Pope Francis used his annual Christmas Day mes...    News   \n",
       "\n",
       "                date  \n",
       "0  December 31, 2017  \n",
       "1  December 31, 2017  \n",
       "2  December 30, 2017  \n",
       "3  December 29, 2017  \n",
       "4  December 25, 2017  "
      ]
     },
     "execution_count": 2,
     "metadata": {},
     "output_type": "execute_result"
    }
   ],
   "source": [
    "# read fake data\n",
    "fake = pd.read_csv('Fake.csv')\n",
    "\n",
    "# take a look at some rows of fake data\n",
    "fake.head()\n"
   ]
  },
  {
   "cell_type": "code",
   "execution_count": 3,
   "id": "90c54fd3",
   "metadata": {},
   "outputs": [
    {
     "data": {
      "text/html": [
       "<div>\n",
       "<style scoped>\n",
       "    .dataframe tbody tr th:only-of-type {\n",
       "        vertical-align: middle;\n",
       "    }\n",
       "\n",
       "    .dataframe tbody tr th {\n",
       "        vertical-align: top;\n",
       "    }\n",
       "\n",
       "    .dataframe thead th {\n",
       "        text-align: right;\n",
       "    }\n",
       "</style>\n",
       "<table border=\"1\" class=\"dataframe\">\n",
       "  <thead>\n",
       "    <tr style=\"text-align: right;\">\n",
       "      <th></th>\n",
       "      <th>title</th>\n",
       "      <th>text</th>\n",
       "      <th>subject</th>\n",
       "      <th>date</th>\n",
       "    </tr>\n",
       "  </thead>\n",
       "  <tbody>\n",
       "    <tr>\n",
       "      <th>0</th>\n",
       "      <td>As U.S. budget fight looms, Republicans flip t...</td>\n",
       "      <td>WASHINGTON (Reuters) - The head of a conservat...</td>\n",
       "      <td>politicsNews</td>\n",
       "      <td>December 31, 2017</td>\n",
       "    </tr>\n",
       "    <tr>\n",
       "      <th>1</th>\n",
       "      <td>U.S. military to accept transgender recruits o...</td>\n",
       "      <td>WASHINGTON (Reuters) - Transgender people will...</td>\n",
       "      <td>politicsNews</td>\n",
       "      <td>December 29, 2017</td>\n",
       "    </tr>\n",
       "    <tr>\n",
       "      <th>2</th>\n",
       "      <td>Senior U.S. Republican senator: 'Let Mr. Muell...</td>\n",
       "      <td>WASHINGTON (Reuters) - The special counsel inv...</td>\n",
       "      <td>politicsNews</td>\n",
       "      <td>December 31, 2017</td>\n",
       "    </tr>\n",
       "    <tr>\n",
       "      <th>3</th>\n",
       "      <td>FBI Russia probe helped by Australian diplomat...</td>\n",
       "      <td>WASHINGTON (Reuters) - Trump campaign adviser ...</td>\n",
       "      <td>politicsNews</td>\n",
       "      <td>December 30, 2017</td>\n",
       "    </tr>\n",
       "    <tr>\n",
       "      <th>4</th>\n",
       "      <td>Trump wants Postal Service to charge 'much mor...</td>\n",
       "      <td>SEATTLE/WASHINGTON (Reuters) - President Donal...</td>\n",
       "      <td>politicsNews</td>\n",
       "      <td>December 29, 2017</td>\n",
       "    </tr>\n",
       "  </tbody>\n",
       "</table>\n",
       "</div>"
      ],
      "text/plain": [
       "                                               title  \\\n",
       "0  As U.S. budget fight looms, Republicans flip t...   \n",
       "1  U.S. military to accept transgender recruits o...   \n",
       "2  Senior U.S. Republican senator: 'Let Mr. Muell...   \n",
       "3  FBI Russia probe helped by Australian diplomat...   \n",
       "4  Trump wants Postal Service to charge 'much mor...   \n",
       "\n",
       "                                                text       subject  \\\n",
       "0  WASHINGTON (Reuters) - The head of a conservat...  politicsNews   \n",
       "1  WASHINGTON (Reuters) - Transgender people will...  politicsNews   \n",
       "2  WASHINGTON (Reuters) - The special counsel inv...  politicsNews   \n",
       "3  WASHINGTON (Reuters) - Trump campaign adviser ...  politicsNews   \n",
       "4  SEATTLE/WASHINGTON (Reuters) - President Donal...  politicsNews   \n",
       "\n",
       "                 date  \n",
       "0  December 31, 2017   \n",
       "1  December 29, 2017   \n",
       "2  December 31, 2017   \n",
       "3  December 30, 2017   \n",
       "4  December 29, 2017   "
      ]
     },
     "execution_count": 3,
     "metadata": {},
     "output_type": "execute_result"
    }
   ],
   "source": [
    "# read true data\n",
    "true = pd.read_csv('True.csv')\n",
    "\n",
    "# take a look at some rows of fake data\n",
    "true.head()"
   ]
  },
  {
   "cell_type": "code",
   "execution_count": 4,
   "id": "e783266b",
   "metadata": {},
   "outputs": [
    {
     "data": {
      "text/plain": [
       "(23481, 4)"
      ]
     },
     "execution_count": 4,
     "metadata": {},
     "output_type": "execute_result"
    }
   ],
   "source": [
    "# the shape of fake data\n",
    "fake.shape\n"
   ]
  },
  {
   "cell_type": "code",
   "execution_count": 5,
   "id": "a51c59ad",
   "metadata": {},
   "outputs": [
    {
     "data": {
      "text/plain": [
       "(21417, 4)"
      ]
     },
     "execution_count": 5,
     "metadata": {},
     "output_type": "execute_result"
    }
   ],
   "source": [
    "# the shape of true data\n",
    "true.shape\n"
   ]
  },
  {
   "cell_type": "code",
   "execution_count": 6,
   "id": "bbcf7ff6",
   "metadata": {},
   "outputs": [],
   "source": [
    "# create label for concatenating data\n",
    "fake[\"label\"] = \"fake\"\n",
    "true[\"label\"] = \"true\"\n"
   ]
  },
  {
   "cell_type": "code",
   "execution_count": 7,
   "id": "9f6a9b04",
   "metadata": {},
   "outputs": [
    {
     "data": {
      "text/html": [
       "<div>\n",
       "<style scoped>\n",
       "    .dataframe tbody tr th:only-of-type {\n",
       "        vertical-align: middle;\n",
       "    }\n",
       "\n",
       "    .dataframe tbody tr th {\n",
       "        vertical-align: top;\n",
       "    }\n",
       "\n",
       "    .dataframe thead th {\n",
       "        text-align: right;\n",
       "    }\n",
       "</style>\n",
       "<table border=\"1\" class=\"dataframe\">\n",
       "  <thead>\n",
       "    <tr style=\"text-align: right;\">\n",
       "      <th></th>\n",
       "      <th>title</th>\n",
       "      <th>text</th>\n",
       "      <th>subject</th>\n",
       "      <th>date</th>\n",
       "      <th>label</th>\n",
       "    </tr>\n",
       "  </thead>\n",
       "  <tbody>\n",
       "    <tr>\n",
       "      <th>22467</th>\n",
       "      <td>Syria: US Peace Council Addresses United Natio...</td>\n",
       "      <td>Photo: Henry Lowendorf21st Century Wire says ...</td>\n",
       "      <td>US_News</td>\n",
       "      <td>September 27, 2016</td>\n",
       "      <td>fake</td>\n",
       "    </tr>\n",
       "    <tr>\n",
       "      <th>3482</th>\n",
       "      <td>House Republicans Just Introduced Bill To Sla...</td>\n",
       "      <td>The Republican effort to let Social Security  ...</td>\n",
       "      <td>News</td>\n",
       "      <td>December 9, 2016</td>\n",
       "      <td>fake</td>\n",
       "    </tr>\n",
       "    <tr>\n",
       "      <th>38792</th>\n",
       "      <td>Cambodia marks independence from France with d...</td>\n",
       "      <td>PHNOM PENH (Reuters) - Cambodians on Thursday ...</td>\n",
       "      <td>worldnews</td>\n",
       "      <td>November 9, 2017</td>\n",
       "      <td>true</td>\n",
       "    </tr>\n",
       "    <tr>\n",
       "      <th>40833</th>\n",
       "      <td>Czech ANO party dips but keeps commanding lead...</td>\n",
       "      <td>PRAGUE (Reuters) - Support for billionaire And...</td>\n",
       "      <td>worldnews</td>\n",
       "      <td>October 16, 2017</td>\n",
       "      <td>true</td>\n",
       "    </tr>\n",
       "    <tr>\n",
       "      <th>3274</th>\n",
       "      <td>The Internet Loses It Over RNC’s Bizarre Stat...</td>\n",
       "      <td>The Republican National Committee released a b...</td>\n",
       "      <td>News</td>\n",
       "      <td>December 25, 2016</td>\n",
       "      <td>fake</td>\n",
       "    </tr>\n",
       "    <tr>\n",
       "      <th>13979</th>\n",
       "      <td>HOUSE SPEAKER PAUL RYAN Puts The Party Before ...</td>\n",
       "      <td>HOUSE SPEAKER PAUL RYAN HAS SOUR GRAPES ABOUT ...</td>\n",
       "      <td>politics</td>\n",
       "      <td>May 5, 2016</td>\n",
       "      <td>fake</td>\n",
       "    </tr>\n",
       "    <tr>\n",
       "      <th>15392</th>\n",
       "      <td>[VIDEO] HERO WHO EXPOSED PLANNED PARENTHOOD SA...</td>\n",
       "      <td>David Daleiden:  We probably have hundreds to ...</td>\n",
       "      <td>politics</td>\n",
       "      <td>Jul 30, 2015</td>\n",
       "      <td>fake</td>\n",
       "    </tr>\n",
       "    <tr>\n",
       "      <th>21609</th>\n",
       "      <td>HIGH SCHOOL TEACHER SEEKS HELP FROM UNION AFTE...</td>\n",
       "      <td>This is just another example of the rampant in...</td>\n",
       "      <td>left-news</td>\n",
       "      <td>Jun 30, 2015</td>\n",
       "      <td>fake</td>\n",
       "    </tr>\n",
       "    <tr>\n",
       "      <th>19321</th>\n",
       "      <td>NICOLE KIDMAN BREAKS RANKS With Hollywood Left...</td>\n",
       "      <td>She s travelling the world to promote her new ...</td>\n",
       "      <td>left-news</td>\n",
       "      <td>Jan 12, 2017</td>\n",
       "      <td>fake</td>\n",
       "    </tr>\n",
       "    <tr>\n",
       "      <th>27941</th>\n",
       "      <td>Trump to speak with Germany's Merkel, Japan's ...</td>\n",
       "      <td>WASHINGTON (Reuters) - U.S. President Donald T...</td>\n",
       "      <td>politicsNews</td>\n",
       "      <td>April 5, 2017</td>\n",
       "      <td>true</td>\n",
       "    </tr>\n",
       "  </tbody>\n",
       "</table>\n",
       "</div>"
      ],
      "text/plain": [
       "                                                   title  \\\n",
       "22467  Syria: US Peace Council Addresses United Natio...   \n",
       "3482    House Republicans Just Introduced Bill To Sla...   \n",
       "38792  Cambodia marks independence from France with d...   \n",
       "40833  Czech ANO party dips but keeps commanding lead...   \n",
       "3274    The Internet Loses It Over RNC’s Bizarre Stat...   \n",
       "13979  HOUSE SPEAKER PAUL RYAN Puts The Party Before ...   \n",
       "15392  [VIDEO] HERO WHO EXPOSED PLANNED PARENTHOOD SA...   \n",
       "21609  HIGH SCHOOL TEACHER SEEKS HELP FROM UNION AFTE...   \n",
       "19321  NICOLE KIDMAN BREAKS RANKS With Hollywood Left...   \n",
       "27941  Trump to speak with Germany's Merkel, Japan's ...   \n",
       "\n",
       "                                                    text       subject  \\\n",
       "22467   Photo: Henry Lowendorf21st Century Wire says ...       US_News   \n",
       "3482   The Republican effort to let Social Security  ...          News   \n",
       "38792  PHNOM PENH (Reuters) - Cambodians on Thursday ...     worldnews   \n",
       "40833  PRAGUE (Reuters) - Support for billionaire And...     worldnews   \n",
       "3274   The Republican National Committee released a b...          News   \n",
       "13979  HOUSE SPEAKER PAUL RYAN HAS SOUR GRAPES ABOUT ...      politics   \n",
       "15392  David Daleiden:  We probably have hundreds to ...      politics   \n",
       "21609  This is just another example of the rampant in...     left-news   \n",
       "19321  She s travelling the world to promote her new ...     left-news   \n",
       "27941  WASHINGTON (Reuters) - U.S. President Donald T...  politicsNews   \n",
       "\n",
       "                     date label  \n",
       "22467  September 27, 2016  fake  \n",
       "3482     December 9, 2016  fake  \n",
       "38792   November 9, 2017   true  \n",
       "40833   October 16, 2017   true  \n",
       "3274    December 25, 2016  fake  \n",
       "13979         May 5, 2016  fake  \n",
       "15392        Jul 30, 2015  fake  \n",
       "21609        Jun 30, 2015  fake  \n",
       "19321        Jan 12, 2017  fake  \n",
       "27941      April 5, 2017   true  "
      ]
     },
     "execution_count": 7,
     "metadata": {},
     "output_type": "execute_result"
    }
   ],
   "source": [
    "# Concatenate fake and true news\n",
    "df = pd.concat([fake, true]).reset_index(drop = True)\n",
    "\n",
    "# take a look at some sample rows of new data\n",
    "df.sample(10)"
   ]
  },
  {
   "cell_type": "markdown",
   "id": "90e9702d",
   "metadata": {},
   "source": [
    "## Step 2: Identify an Unsupervised Learning Problem"
   ]
  },
  {
   "cell_type": "markdown",
   "id": "5d6a37f5",
   "metadata": {},
   "source": [
    "After concatenating fake and true data, the new data has two labels. And the goal is to assign one label to a news article in test data. The two labels we want to identify are fake and true.\n",
    "\n",
    "To do this, we will train two kind of models:   \n",
    "(1) two unsupervised models: included NMF using matrix factorization and clustering Kmeans.  \n",
    "(2) multiple supervised models such as Random Forest, Logistic Regression and Decision Tree Classifier.     \n",
    "\n",
    "These models are built to have their testing accuracy, RMSE score and confusion matrix, then I will compare these models for their performance."
   ]
  },
  {
   "cell_type": "markdown",
   "id": "0bbabe17",
   "metadata": {},
   "source": [
    "## Step 3: Exploratory Data Analysis (EDA) - Inspect, Visualize, and Clean the Data"
   ]
  },
  {
   "cell_type": "markdown",
   "id": "7a2897b3",
   "metadata": {},
   "source": [
    "### 3.1 Inspect the data"
   ]
  },
  {
   "cell_type": "code",
   "execution_count": 8,
   "id": "1078f863",
   "metadata": {},
   "outputs": [
    {
     "data": {
      "text/html": [
       "<div>\n",
       "<style scoped>\n",
       "    .dataframe tbody tr th:only-of-type {\n",
       "        vertical-align: middle;\n",
       "    }\n",
       "\n",
       "    .dataframe tbody tr th {\n",
       "        vertical-align: top;\n",
       "    }\n",
       "\n",
       "    .dataframe thead th {\n",
       "        text-align: right;\n",
       "    }\n",
       "</style>\n",
       "<table border=\"1\" class=\"dataframe\">\n",
       "  <thead>\n",
       "    <tr style=\"text-align: right;\">\n",
       "      <th></th>\n",
       "      <th>title</th>\n",
       "      <th>text</th>\n",
       "      <th>subject</th>\n",
       "      <th>date</th>\n",
       "      <th>label</th>\n",
       "    </tr>\n",
       "  </thead>\n",
       "  <tbody>\n",
       "    <tr>\n",
       "      <th>count</th>\n",
       "      <td>44898</td>\n",
       "      <td>44898</td>\n",
       "      <td>44898</td>\n",
       "      <td>44898</td>\n",
       "      <td>44898</td>\n",
       "    </tr>\n",
       "    <tr>\n",
       "      <th>unique</th>\n",
       "      <td>38729</td>\n",
       "      <td>38646</td>\n",
       "      <td>8</td>\n",
       "      <td>2397</td>\n",
       "      <td>2</td>\n",
       "    </tr>\n",
       "    <tr>\n",
       "      <th>top</th>\n",
       "      <td>Factbox: Trump fills top jobs for his administ...</td>\n",
       "      <td></td>\n",
       "      <td>politicsNews</td>\n",
       "      <td>December 20, 2017</td>\n",
       "      <td>fake</td>\n",
       "    </tr>\n",
       "    <tr>\n",
       "      <th>freq</th>\n",
       "      <td>14</td>\n",
       "      <td>627</td>\n",
       "      <td>11272</td>\n",
       "      <td>182</td>\n",
       "      <td>23481</td>\n",
       "    </tr>\n",
       "  </tbody>\n",
       "</table>\n",
       "</div>"
      ],
      "text/plain": [
       "                                                    title   text  \\\n",
       "count                                               44898  44898   \n",
       "unique                                              38729  38646   \n",
       "top     Factbox: Trump fills top jobs for his administ...          \n",
       "freq                                                   14    627   \n",
       "\n",
       "             subject                date  label  \n",
       "count          44898               44898  44898  \n",
       "unique             8                2397      2  \n",
       "top     politicsNews  December 20, 2017    fake  \n",
       "freq           11272                 182  23481  "
      ]
     },
     "execution_count": 8,
     "metadata": {},
     "output_type": "execute_result"
    }
   ],
   "source": [
    "# get a quick description of the data\n",
    "df.describe()\n"
   ]
  },
  {
   "cell_type": "code",
   "execution_count": 9,
   "id": "7aa547e5",
   "metadata": {},
   "outputs": [
    {
     "data": {
      "text/plain": [
       "title      0\n",
       "text       0\n",
       "subject    0\n",
       "date       0\n",
       "label      0\n",
       "dtype: int64"
      ]
     },
     "execution_count": 9,
     "metadata": {},
     "output_type": "execute_result"
    }
   ],
   "source": [
    "# check null values in data\n",
    "df.isnull().sum()\n"
   ]
  },
  {
   "cell_type": "code",
   "execution_count": 10,
   "id": "f64d9ab8",
   "metadata": {},
   "outputs": [
    {
     "data": {
      "text/plain": [
       "405"
      ]
     },
     "execution_count": 10,
     "metadata": {},
     "output_type": "execute_result"
    }
   ],
   "source": [
    "# check for duplicate articles\n",
    "df.duplicated(keep=False).sum()\n"
   ]
  },
  {
   "cell_type": "code",
   "execution_count": 11,
   "id": "cdc8c541",
   "metadata": {},
   "outputs": [
    {
     "data": {
      "text/plain": [
       "(44493, 5)"
      ]
     },
     "execution_count": 11,
     "metadata": {},
     "output_type": "execute_result"
    }
   ],
   "source": [
    "# remove duplicates articles\n",
    "df = df.drop_duplicates(keep=False)\n",
    "\n",
    "# check shape of new data\n",
    "df.shape"
   ]
  },
  {
   "cell_type": "code",
   "execution_count": 12,
   "id": "e8b299d2",
   "metadata": {},
   "outputs": [
    {
     "name": "stdout",
     "output_type": "stream",
     "text": [
      "<class 'pandas.core.frame.DataFrame'>\n",
      "Int64Index: 44493 entries, 0 to 44897\n",
      "Data columns (total 5 columns):\n",
      " #   Column   Non-Null Count  Dtype \n",
      "---  ------   --------------  ----- \n",
      " 0   title    44493 non-null  object\n",
      " 1   text     44493 non-null  object\n",
      " 2   subject  44493 non-null  object\n",
      " 3   date     44493 non-null  object\n",
      " 4   label    44493 non-null  object\n",
      "dtypes: object(5)\n",
      "memory usage: 2.0+ MB\n"
     ]
    }
   ],
   "source": [
    "# the structure of data also tells us the number of rows (observations) and columns (variables)\n",
    "df.info()\n"
   ]
  },
  {
   "cell_type": "code",
   "execution_count": 13,
   "id": "070a5100",
   "metadata": {},
   "outputs": [
    {
     "data": {
      "text/html": [
       "<div>\n",
       "<style scoped>\n",
       "    .dataframe tbody tr th:only-of-type {\n",
       "        vertical-align: middle;\n",
       "    }\n",
       "\n",
       "    .dataframe tbody tr th {\n",
       "        vertical-align: top;\n",
       "    }\n",
       "\n",
       "    .dataframe thead th {\n",
       "        text-align: right;\n",
       "    }\n",
       "</style>\n",
       "<table border=\"1\" class=\"dataframe\">\n",
       "  <thead>\n",
       "    <tr style=\"text-align: right;\">\n",
       "      <th></th>\n",
       "      <th>title</th>\n",
       "      <th>text</th>\n",
       "      <th>subject</th>\n",
       "      <th>date</th>\n",
       "      <th>label</th>\n",
       "    </tr>\n",
       "  </thead>\n",
       "  <tbody>\n",
       "    <tr>\n",
       "      <th>0</th>\n",
       "      <td>Donald Trump Sends Out Embarrassing New Year’...</td>\n",
       "      <td>Donald Trump just couldn t wish all Americans ...</td>\n",
       "      <td>News</td>\n",
       "      <td>2017-12-31</td>\n",
       "      <td>fake</td>\n",
       "    </tr>\n",
       "    <tr>\n",
       "      <th>1</th>\n",
       "      <td>Drunk Bragging Trump Staffer Started Russian ...</td>\n",
       "      <td>House Intelligence Committee Chairman Devin Nu...</td>\n",
       "      <td>News</td>\n",
       "      <td>2017-12-31</td>\n",
       "      <td>fake</td>\n",
       "    </tr>\n",
       "    <tr>\n",
       "      <th>2</th>\n",
       "      <td>Sheriff David Clarke Becomes An Internet Joke...</td>\n",
       "      <td>On Friday, it was revealed that former Milwauk...</td>\n",
       "      <td>News</td>\n",
       "      <td>2017-12-30</td>\n",
       "      <td>fake</td>\n",
       "    </tr>\n",
       "    <tr>\n",
       "      <th>3</th>\n",
       "      <td>Trump Is So Obsessed He Even Has Obama’s Name...</td>\n",
       "      <td>On Christmas day, Donald Trump announced that ...</td>\n",
       "      <td>News</td>\n",
       "      <td>2017-12-29</td>\n",
       "      <td>fake</td>\n",
       "    </tr>\n",
       "    <tr>\n",
       "      <th>4</th>\n",
       "      <td>Pope Francis Just Called Out Donald Trump Dur...</td>\n",
       "      <td>Pope Francis used his annual Christmas Day mes...</td>\n",
       "      <td>News</td>\n",
       "      <td>2017-12-25</td>\n",
       "      <td>fake</td>\n",
       "    </tr>\n",
       "  </tbody>\n",
       "</table>\n",
       "</div>"
      ],
      "text/plain": [
       "                                               title  \\\n",
       "0   Donald Trump Sends Out Embarrassing New Year’...   \n",
       "1   Drunk Bragging Trump Staffer Started Russian ...   \n",
       "2   Sheriff David Clarke Becomes An Internet Joke...   \n",
       "3   Trump Is So Obsessed He Even Has Obama’s Name...   \n",
       "4   Pope Francis Just Called Out Donald Trump Dur...   \n",
       "\n",
       "                                                text subject       date label  \n",
       "0  Donald Trump just couldn t wish all Americans ...    News 2017-12-31  fake  \n",
       "1  House Intelligence Committee Chairman Devin Nu...    News 2017-12-31  fake  \n",
       "2  On Friday, it was revealed that former Milwauk...    News 2017-12-30  fake  \n",
       "3  On Christmas day, Donald Trump announced that ...    News 2017-12-29  fake  \n",
       "4  Pope Francis used his annual Christmas Day mes...    News 2017-12-25  fake  "
      ]
     },
     "execution_count": 13,
     "metadata": {},
     "output_type": "execute_result"
    }
   ],
   "source": [
    "# convert date column from object to datetime format\n",
    "df['date'] = pd.to_datetime(df['date'], errors='coerce')\n",
    "\n",
    "# view some first rows of the data\n",
    "df.head()\n"
   ]
  },
  {
   "cell_type": "code",
   "execution_count": 14,
   "id": "0ce41618",
   "metadata": {},
   "outputs": [
    {
     "data": {
      "text/plain": [
       "array(['fake', 'true'], dtype=object)"
      ]
     },
     "execution_count": 14,
     "metadata": {},
     "output_type": "execute_result"
    }
   ],
   "source": [
    "# get the label of data\n",
    "df['label'].unique()\n"
   ]
  },
  {
   "cell_type": "code",
   "execution_count": 15,
   "id": "6cf069eb",
   "metadata": {},
   "outputs": [
    {
     "data": {
      "text/plain": [
       "array(['News', 'politics', 'Government News', 'left-news', 'US_News',\n",
       "       'Middle-east', 'politicsNews', 'worldnews'], dtype=object)"
      ]
     },
     "execution_count": 15,
     "metadata": {},
     "output_type": "execute_result"
    }
   ],
   "source": [
    "# get the label of data\n",
    "df['subject'].unique()\n"
   ]
  },
  {
   "cell_type": "markdown",
   "id": "192398e6",
   "metadata": {},
   "source": [
    "From the output above, after concatenating fake and true news data, we can summarize that:  \n",
    "+ There are 44898 entries and 5 columns in new data. \n",
    "+ There is no missing values.\n",
    "+ There are 405 duplicated articles.  \n",
    "+ After removing duplicated rows, our data has 44493 entries and 5 columns. \n",
    "+ All columns are object. Therefore, date column was converted to date time.\n",
    "+ There are 2 labels: fake and true.\n",
    "+ There are 8 subjects: 'News', 'politics', 'Government News', 'left-news', 'US_News', 'Middle-east', 'politicsNews' and 'worldnews'.\n",
    "  "
   ]
  },
  {
   "cell_type": "markdown",
   "id": "b02571b6",
   "metadata": {},
   "source": [
    "### 3.2 Visualize the data"
   ]
  },
  {
   "cell_type": "markdown",
   "id": "42667460",
   "metadata": {},
   "source": [
    "Next, I will do some works for visualizing the data:  \n",
    "+ calculate and visualize the count and the proportion of each label.\n",
    "+ calculate and visualize the count and the proportion of each subject.\n",
    "+ explore the label by year.\n",
    "+ explore the label by month.\n"
   ]
  },
  {
   "cell_type": "code",
   "execution_count": 16,
   "id": "daf4ae7d",
   "metadata": {},
   "outputs": [
    {
     "data": {
      "text/plain": [
       "fake    23475\n",
       "true    21018\n",
       "Name: label, dtype: int64"
      ]
     },
     "execution_count": 16,
     "metadata": {},
     "output_type": "execute_result"
    }
   ],
   "source": [
    "# calculate the count of each label\n",
    "df['label'].value_counts()\n"
   ]
  },
  {
   "cell_type": "code",
   "execution_count": 17,
   "id": "6a6efcd3",
   "metadata": {},
   "outputs": [
    {
     "data": {
      "text/plain": [
       "fake    52.761108\n",
       "true    47.238892\n",
       "Name: label, dtype: float64"
      ]
     },
     "execution_count": 17,
     "metadata": {},
     "output_type": "execute_result"
    }
   ],
   "source": [
    "# calculate the proportion of each label\n",
    "df['label'].value_counts()/len(df)*100\n"
   ]
  },
  {
   "cell_type": "code",
   "execution_count": 18,
   "id": "a3233b62",
   "metadata": {},
   "outputs": [
    {
     "data": {
      "image/png": "[encoded data removed]",
      "text/plain": [
       "<Figure size 432x432 with 1 Axes>"
      ]
     },
     "metadata": {
      "needs_background": "light"
     },
     "output_type": "display_data"
    },
    {
     "data": {
      "image/png": "[encoded data removed]",
      "text/plain": [
       "<Figure size 432x288 with 1 Axes>"
      ]
     },
     "metadata": {},
     "output_type": "display_data"
    }
   ],
   "source": [
    "# plot the count of each label\n",
    "fig, ax = plt.subplots(figsize=(6,6))\n",
    "sns.countplot(data=df, y='label', ax=ax).set(title='\\nFigure 1. The Count of Each Label\\n')\n",
    "\n",
    "# plot the proportion of each category\n",
    "labels = df['label'].unique().tolist()\n",
    "counts = df['label'].value_counts()\n",
    "sizes = [counts[v] for v in labels]\n",
    "fig1, ax1 = plt.subplots()\n",
    "ax1.pie(sizes, labels=labels, autopct='%0.2f%%')\n",
    "ax1.axis('equal')\n",
    "plt.title(\"\\nFigure 2. The Proportion of Each Label\\n\")\n",
    "plt.tight_layout()\n",
    "plt.show()\n"
   ]
  },
  {
   "cell_type": "markdown",
   "id": "689ff3de",
   "metadata": {},
   "source": [
    "Figure 1 shows the count of each label and figure 2 shows the proportions of each label. Looking at these two figures, we can see that in overall, the number of article for each category is not different too much. I think this is good since if one or two categories was severely underrepresentated or, in contrast, overrepresentative in the train data, then it may cause our model to be biased and/or perform poorly on some or all of the test data."
   ]
  },
  {
   "cell_type": "code",
   "execution_count": 19,
   "id": "2a7f88bb",
   "metadata": {},
   "outputs": [
    {
     "data": {
      "text/plain": [
       "politicsNews       11181\n",
       "worldnews           9837\n",
       "News                9050\n",
       "politics            6835\n",
       "left-news           4459\n",
       "Government News     1570\n",
       "US_News              783\n",
       "Middle-east          778\n",
       "Name: subject, dtype: int64"
      ]
     },
     "execution_count": 19,
     "metadata": {},
     "output_type": "execute_result"
    }
   ],
   "source": [
    "# calculate the count of each subject\n",
    "subjects = df['subject'].value_counts()\n",
    "subjects"
   ]
  },
  {
   "cell_type": "code",
   "execution_count": 20,
   "id": "77a0a0df",
   "metadata": {},
   "outputs": [
    {
     "name": "stdout",
     "output_type": "stream",
     "text": [
      "politicsNews       25.129796\n",
      "worldnews          22.109096\n",
      "News               20.340278\n",
      "politics           15.361967\n",
      "left-news          10.021801\n",
      "Government News     3.528645\n",
      "US_News             1.759827\n",
      "Middle-east         1.748590\n",
      "Name: subject, dtype: float64\n"
     ]
    }
   ],
   "source": [
    "# calculate the proportion of each subject\n",
    "proportions = subjects/len(df)*100\n",
    "print(proportions)"
   ]
  },
  {
   "cell_type": "code",
   "execution_count": 21,
   "id": "a85069e5",
   "metadata": {},
   "outputs": [
    {
     "data": {
      "image/png": "[encoded data removed]",
      "text/plain": [
       "<Figure size 720x432 with 1 Axes>"
      ]
     },
     "metadata": {
      "needs_background": "light"
     },
     "output_type": "display_data"
    },
    {
     "data": {
      "image/png": "[encoded data removed]",
      "text/plain": [
       "<Figure size 432x288 with 1 Axes>"
      ]
     },
     "metadata": {},
     "output_type": "display_data"
    }
   ],
   "source": [
    "# plot the count of each subject\n",
    "fig, ax = plt.subplots(figsize=(10,6))\n",
    "sns.countplot(data=df, y='subject', ax=ax).set(title='\\nFigure 3. The Count of Each Subject\\n')\n",
    "\n",
    "# plot the proportion of each category\n",
    "sub_labels = df['subject'].unique().tolist()\n",
    "counts = df['subject'].value_counts()\n",
    "sizes = [counts[v] for v in sub_labels]\n",
    "fig1, ax1 = plt.subplots()\n",
    "ax1.pie(sizes, labels=sub_labels, autopct='%0.2f%%')\n",
    "ax1.axis('equal')\n",
    "plt.title(\"\\nFigure 4. The Proportion of Each Subject\\n\")\n",
    "\n",
    "plt.tight_layout()\n",
    "plt.show()"
   ]
  },
  {
   "cell_type": "markdown",
   "id": "72ab2547",
   "metadata": {},
   "source": [
    "Figure 3 shows the count of each subject, figure 4 shows the proportion of each subject. There are 8 subjects in the data, included News, Polictics, Government News, Left-news, US_News, Middle-east, Polictic News and World News. Among these subjects, the number of Polictic News articles is the most (25.13%), next are World News (22.11%) and News (20.34%). The least number of articles belongs to US News (1.76%) and Middle-east (1.75%)."
   ]
  },
  {
   "cell_type": "code",
   "execution_count": 22,
   "id": "58dd8574",
   "metadata": {},
   "outputs": [
    {
     "data": {
      "text/html": [
       "<div>\n",
       "<style scoped>\n",
       "    .dataframe tbody tr th:only-of-type {\n",
       "        vertical-align: middle;\n",
       "    }\n",
       "\n",
       "    .dataframe tbody tr th {\n",
       "        vertical-align: top;\n",
       "    }\n",
       "\n",
       "    .dataframe thead th {\n",
       "        text-align: right;\n",
       "    }\n",
       "</style>\n",
       "<table border=\"1\" class=\"dataframe\">\n",
       "  <thead>\n",
       "    <tr style=\"text-align: right;\">\n",
       "      <th></th>\n",
       "      <th>title</th>\n",
       "      <th>text</th>\n",
       "      <th>subject</th>\n",
       "      <th>date</th>\n",
       "      <th>label</th>\n",
       "      <th>year</th>\n",
       "      <th>month</th>\n",
       "    </tr>\n",
       "  </thead>\n",
       "  <tbody>\n",
       "    <tr>\n",
       "      <th>0</th>\n",
       "      <td>Donald Trump Sends Out Embarrassing New Year’...</td>\n",
       "      <td>Donald Trump just couldn t wish all Americans ...</td>\n",
       "      <td>News</td>\n",
       "      <td>2017-12-31</td>\n",
       "      <td>fake</td>\n",
       "      <td>2017.0</td>\n",
       "      <td>12.0</td>\n",
       "    </tr>\n",
       "    <tr>\n",
       "      <th>1</th>\n",
       "      <td>Drunk Bragging Trump Staffer Started Russian ...</td>\n",
       "      <td>House Intelligence Committee Chairman Devin Nu...</td>\n",
       "      <td>News</td>\n",
       "      <td>2017-12-31</td>\n",
       "      <td>fake</td>\n",
       "      <td>2017.0</td>\n",
       "      <td>12.0</td>\n",
       "    </tr>\n",
       "    <tr>\n",
       "      <th>2</th>\n",
       "      <td>Sheriff David Clarke Becomes An Internet Joke...</td>\n",
       "      <td>On Friday, it was revealed that former Milwauk...</td>\n",
       "      <td>News</td>\n",
       "      <td>2017-12-30</td>\n",
       "      <td>fake</td>\n",
       "      <td>2017.0</td>\n",
       "      <td>12.0</td>\n",
       "    </tr>\n",
       "    <tr>\n",
       "      <th>3</th>\n",
       "      <td>Trump Is So Obsessed He Even Has Obama’s Name...</td>\n",
       "      <td>On Christmas day, Donald Trump announced that ...</td>\n",
       "      <td>News</td>\n",
       "      <td>2017-12-29</td>\n",
       "      <td>fake</td>\n",
       "      <td>2017.0</td>\n",
       "      <td>12.0</td>\n",
       "    </tr>\n",
       "    <tr>\n",
       "      <th>4</th>\n",
       "      <td>Pope Francis Just Called Out Donald Trump Dur...</td>\n",
       "      <td>Pope Francis used his annual Christmas Day mes...</td>\n",
       "      <td>News</td>\n",
       "      <td>2017-12-25</td>\n",
       "      <td>fake</td>\n",
       "      <td>2017.0</td>\n",
       "      <td>12.0</td>\n",
       "    </tr>\n",
       "  </tbody>\n",
       "</table>\n",
       "</div>"
      ],
      "text/plain": [
       "                                               title  \\\n",
       "0   Donald Trump Sends Out Embarrassing New Year’...   \n",
       "1   Drunk Bragging Trump Staffer Started Russian ...   \n",
       "2   Sheriff David Clarke Becomes An Internet Joke...   \n",
       "3   Trump Is So Obsessed He Even Has Obama’s Name...   \n",
       "4   Pope Francis Just Called Out Donald Trump Dur...   \n",
       "\n",
       "                                                text subject       date label  \\\n",
       "0  Donald Trump just couldn t wish all Americans ...    News 2017-12-31  fake   \n",
       "1  House Intelligence Committee Chairman Devin Nu...    News 2017-12-31  fake   \n",
       "2  On Friday, it was revealed that former Milwauk...    News 2017-12-30  fake   \n",
       "3  On Christmas day, Donald Trump announced that ...    News 2017-12-29  fake   \n",
       "4  Pope Francis used his annual Christmas Day mes...    News 2017-12-25  fake   \n",
       "\n",
       "     year  month  \n",
       "0  2017.0   12.0  \n",
       "1  2017.0   12.0  \n",
       "2  2017.0   12.0  \n",
       "3  2017.0   12.0  \n",
       "4  2017.0   12.0  "
      ]
     },
     "execution_count": 22,
     "metadata": {},
     "output_type": "execute_result"
    }
   ],
   "source": [
    "# extract month and year from date column\n",
    "df[\"year\"] = pd.DatetimeIndex(df['date']).year\n",
    "df[\"month\"] = pd.DatetimeIndex(df['date']).month\n",
    "df.head()\n"
   ]
  },
  {
   "cell_type": "code",
   "execution_count": 23,
   "id": "81152554",
   "metadata": {},
   "outputs": [
    {
     "data": {
      "image/png": "[encoded data removed]",
      "text/plain": [
       "<Figure size 864x432 with 1 Axes>"
      ]
     },
     "metadata": {
      "needs_background": "light"
     },
     "output_type": "display_data"
    }
   ],
   "source": [
    "# explore each label by year\n",
    "fig, ax = plt.subplots(figsize=(12,6))\n",
    "sns.countplot(x=\"year\", data=df, hue=\"label\", ax=ax).set(title='\\nFigure 5. The Label of Each Year')\n",
    "plt.show()\n"
   ]
  },
  {
   "cell_type": "markdown",
   "id": "81a8ee53",
   "metadata": {},
   "source": [
    "Figure 5 shows that in 2015, there is no true news, but fake news and misinformation had become prevalent during 2016. However, on the contrary, the number of true news was much more than the number of fake news in 2017. We do not have much data in 2018."
   ]
  },
  {
   "cell_type": "code",
   "execution_count": 24,
   "id": "95aa873d",
   "metadata": {},
   "outputs": [
    {
     "data": {
      "image/png": "[encoded data removed]",
      "text/plain": [
       "<Figure size 864x432 with 1 Axes>"
      ]
     },
     "metadata": {
      "needs_background": "light"
     },
     "output_type": "display_data"
    }
   ],
   "source": [
    "# explore each label by month\n",
    "fig, ax = plt.subplots(figsize=(12,6))\n",
    "sns.countplot(x=\"month\", data=df, hue=\"label\", ax=ax).set(title='\\nFigure 6. The Label of Each Month')\n",
    "plt.show()\n"
   ]
  },
  {
   "cell_type": "markdown",
   "id": "e24237be",
   "metadata": {},
   "source": [
    "Looking at figure 6, we can see that in overall, the number of fake news is larger than the number of true news from January to August and then on the contrary, the number of true news is larger than the number of fake news from September to December."
   ]
  },
  {
   "cell_type": "markdown",
   "id": "d0c5cf62",
   "metadata": {},
   "source": [
    "### 3.3 Clean the data"
   ]
  },
  {
   "cell_type": "markdown",
   "id": "7b83a327",
   "metadata": {},
   "source": [
    "To prepare the data for training models, some works have to be done such as:  \n",
    "+ create new feature by combining title and text column.\n",
    "+ drop unused columns such as: date, year, month, title.   \n",
    "\n",
    "To preprocess our text simply means to bring our text into a form that is predictable and analyzable for our task. So, what I am going to do is:   \n",
    "\n",
    "(1) lowercasing all our text data    \n",
    "(2) remove punctuation    \n",
    "(3) remove stop words: stop words are a set of commonly used words in a language. Examples of stop words in English are “a”, “the”, “is”, “are” and etc. The intuition behind using stop words is that, by removing low information words from text, we can focus on the important words instead.  \n",
    "(4) lemmatization: lemmatization usually refers to doing things properly with the use of a vocabulary and morphological analysis of words, normally aiming to remove inflectional endings only and to return the base or dictionary form of a word, which is known as the lemma. For example, runs, running, ran are all forms of the word run, therefore run is the lemma of all these words.\n",
    "    \n",
    "Since I'm planning to redo these cleaning steps for a test data without label as well, thus for convenience, I will create a clean_text function for this data and reuse it for cleaning unlabeled test data later."
   ]
  },
  {
   "cell_type": "code",
   "execution_count": 25,
   "id": "dcc993c9",
   "metadata": {},
   "outputs": [
    {
     "data": {
      "text/html": [
       "<div>\n",
       "<style scoped>\n",
       "    .dataframe tbody tr th:only-of-type {\n",
       "        vertical-align: middle;\n",
       "    }\n",
       "\n",
       "    .dataframe tbody tr th {\n",
       "        vertical-align: top;\n",
       "    }\n",
       "\n",
       "    .dataframe thead th {\n",
       "        text-align: right;\n",
       "    }\n",
       "</style>\n",
       "<table border=\"1\" class=\"dataframe\">\n",
       "  <thead>\n",
       "    <tr style=\"text-align: right;\">\n",
       "      <th></th>\n",
       "      <th>text</th>\n",
       "      <th>subject</th>\n",
       "      <th>label</th>\n",
       "    </tr>\n",
       "  </thead>\n",
       "  <tbody>\n",
       "    <tr>\n",
       "      <th>9637</th>\n",
       "      <td>BOOM! WATCH VIDEO FOUND Proving Gen. Kelly Rig...</td>\n",
       "      <td>politics</td>\n",
       "      <td>fake</td>\n",
       "    </tr>\n",
       "    <tr>\n",
       "      <th>38724</th>\n",
       "      <td>War crimes court backs Burundi investigation A...</td>\n",
       "      <td>worldnews</td>\n",
       "      <td>true</td>\n",
       "    </tr>\n",
       "    <tr>\n",
       "      <th>7667</th>\n",
       "      <td>SNL Perfectly SLAMS Trump Supporters With ‘Ra...</td>\n",
       "      <td>News</td>\n",
       "      <td>fake</td>\n",
       "    </tr>\n",
       "    <tr>\n",
       "      <th>29380</th>\n",
       "      <td>Syrian Christians denied entry to U.S. in Phil...</td>\n",
       "      <td>politicsNews</td>\n",
       "      <td>true</td>\n",
       "    </tr>\n",
       "    <tr>\n",
       "      <th>42018</th>\n",
       "      <td>Two-thirds of Germans see persistent east-west...</td>\n",
       "      <td>worldnews</td>\n",
       "      <td>true</td>\n",
       "    </tr>\n",
       "    <tr>\n",
       "      <th>11763</th>\n",
       "      <td>BOOM! Companies That Openly Criticized Trump F...</td>\n",
       "      <td>politics</td>\n",
       "      <td>fake</td>\n",
       "    </tr>\n",
       "    <tr>\n",
       "      <th>43041</th>\n",
       "      <td>Kyrgyzstan accuses Kazakhstan of backing oppos...</td>\n",
       "      <td>worldnews</td>\n",
       "      <td>true</td>\n",
       "    </tr>\n",
       "    <tr>\n",
       "      <th>19717</th>\n",
       "      <td>ANTI-HILLARY HALLOWEEN HOUSE Gets Violent Thre...</td>\n",
       "      <td>left-news</td>\n",
       "      <td>fake</td>\n",
       "    </tr>\n",
       "    <tr>\n",
       "      <th>14610</th>\n",
       "      <td>GERMANY CRISIS ESCALATES: Muslim Migrants Mast...</td>\n",
       "      <td>politics</td>\n",
       "      <td>fake</td>\n",
       "    </tr>\n",
       "    <tr>\n",
       "      <th>4863</th>\n",
       "      <td>Comedy Central’s Roast Of Rob Lowe HIJACKED A...</td>\n",
       "      <td>News</td>\n",
       "      <td>fake</td>\n",
       "    </tr>\n",
       "  </tbody>\n",
       "</table>\n",
       "</div>"
      ],
      "text/plain": [
       "                                                    text       subject label\n",
       "9637   BOOM! WATCH VIDEO FOUND Proving Gen. Kelly Rig...      politics  fake\n",
       "38724  War crimes court backs Burundi investigation A...     worldnews  true\n",
       "7667    SNL Perfectly SLAMS Trump Supporters With ‘Ra...          News  fake\n",
       "29380  Syrian Christians denied entry to U.S. in Phil...  politicsNews  true\n",
       "42018  Two-thirds of Germans see persistent east-west...     worldnews  true\n",
       "11763  BOOM! Companies That Openly Criticized Trump F...      politics  fake\n",
       "43041  Kyrgyzstan accuses Kazakhstan of backing oppos...     worldnews  true\n",
       "19717  ANTI-HILLARY HALLOWEEN HOUSE Gets Violent Thre...     left-news  fake\n",
       "14610  GERMANY CRISIS ESCALATES: Muslim Migrants Mast...      politics  fake\n",
       "4863    Comedy Central’s Roast Of Rob Lowe HIJACKED A...          News  fake"
      ]
     },
     "execution_count": 25,
     "metadata": {},
     "output_type": "execute_result"
    }
   ],
   "source": [
    "# create new feature by combining the title and text column\n",
    "df['text'] = df['title'] + ' ' + df['text']\n",
    "\n",
    "# drop date, year, month, title columns and reorder the columns\n",
    "df_news = df.drop(columns=[\"date\", \"year\", \"month\", \"title\"])\n",
    "df_news = df_news.loc[:,['text','subject','label']]\n",
    "\n",
    "# view some sample rows of df_news\n",
    "df_news.sample(10)"
   ]
  },
  {
   "cell_type": "code",
   "execution_count": 26,
   "id": "bb53a511",
   "metadata": {},
   "outputs": [],
   "source": [
    "def clean_text(data, text):\n",
    "    # lowercasing all text data\n",
    "    data[text] = data[text].str.lower()\n",
    "    # remove punctuation\n",
    "    data[text] = data[text].str.replace('[^\\w\\s]', '', regex=True)\n",
    "    # remove stop words\n",
    "    stop_words = stopwords.words('english')\n",
    "    data[text] = data[text].apply(lambda x: ' '.join([word for word in x.split() if word not in (stop_words)]))\n",
    "    # lemmatization\n",
    "    lemmatizer = WordNetLemmatizer()\n",
    "    data[text] = data[text].apply(lambda x: ' '.join([lemmatizer.lemmatize(word) for word in x.split()]))\n",
    "    return\n"
   ]
  },
  {
   "cell_type": "code",
   "execution_count": 27,
   "id": "c5b12d17",
   "metadata": {},
   "outputs": [
    {
     "data": {
      "text/plain": [
       "'donald trump sends embarrassing new year eve message disturbing donald trump wish american happy new year leave instead give shout enemy hater dishonest fake news medium former reality show star one job country rapidly grows stronger smarter want wish friend supporter enemy hater even dishonest fake news medium happy healthy new year president angry pant tweeted 2018 great year america country rapidly grows stronger smarter want wish friend supporter enemy hater even dishonest fake news medium happy healthy new year 2018 great year america donald j trump realdonaldtrump december 31 2017trump tweet went welll expectwhat kind president sends new year greeting like despicable petty infantile gibberish trump lack decency even allow rise gutter long enough wish american citizen happy new year bishop talbert swan talbertswan december 31 2017no one like calvin calvinstowell december 31 2017your impeachment would make 2018 great year america also accept regaining control congress miranda yaver mirandayaver december 31 2017do hear talk include many people hate wonder hate alan sandoval alansandoval13 december 31 2017who us word hater new year wish marlene marlene399 december 31 2017you say happy new year koren pollitt korencarpenter december 31 2017here trump new year eve tweet 2016happy new year including many enemy fought lost badly know love donald j trump realdonaldtrump december 31 2016this nothing new trump yearstrump directed message enemy hater new year easter thanksgiving anniversary 911 pictwittercom4fpae2kypa daniel dale ddale8 december 31 2017trump holiday tweet clearly presidentialhow long work hallmark becoming president steven goodine sgoodine december 31 2017he always like difference last year filter breaking roy schulze thbthttt december 31 2017who apart teenager us term hater wendy wendywhistles december 31 2017he fucking 5 year old know rainyday80 december 31 2017so people voted hole thinking would change got power wrong 70yearold men change year olderphoto andrew burtongetty image'"
      ]
     },
     "execution_count": 27,
     "metadata": {},
     "output_type": "execute_result"
    }
   ],
   "source": [
    "# clean news data\n",
    "clean_text(df_news, \"text\")\n",
    "\n",
    "# view text in the first row after cleaning all text data\n",
    "df_news[\"text\"][0]\n"
   ]
  },
  {
   "cell_type": "code",
   "execution_count": 28,
   "id": "c93187e8",
   "metadata": {},
   "outputs": [],
   "source": [
    "# calculate the count of word per article\n",
    "df_news[\"Word_Count\"] = df_news['text'].apply(lambda x: len(x.split()))\n"
   ]
  },
  {
   "cell_type": "code",
   "execution_count": 29,
   "id": "faf2c25b",
   "metadata": {},
   "outputs": [
    {
     "data": {
      "text/html": [
       "<div>\n",
       "<style scoped>\n",
       "    .dataframe tbody tr th:only-of-type {\n",
       "        vertical-align: middle;\n",
       "    }\n",
       "\n",
       "    .dataframe tbody tr th {\n",
       "        vertical-align: top;\n",
       "    }\n",
       "\n",
       "    .dataframe thead th {\n",
       "        text-align: right;\n",
       "    }\n",
       "</style>\n",
       "<table border=\"1\" class=\"dataframe\">\n",
       "  <thead>\n",
       "    <tr style=\"text-align: right;\">\n",
       "      <th></th>\n",
       "      <th>text</th>\n",
       "      <th>subject</th>\n",
       "      <th>label</th>\n",
       "      <th>Word_Count</th>\n",
       "    </tr>\n",
       "  </thead>\n",
       "  <tbody>\n",
       "    <tr>\n",
       "      <th>0</th>\n",
       "      <td>donald trump sends embarrassing new year eve m...</td>\n",
       "      <td>News</td>\n",
       "      <td>fake</td>\n",
       "      <td>296</td>\n",
       "    </tr>\n",
       "    <tr>\n",
       "      <th>1</th>\n",
       "      <td>drunk bragging trump staffer started russian c...</td>\n",
       "      <td>News</td>\n",
       "      <td>fake</td>\n",
       "      <td>187</td>\n",
       "    </tr>\n",
       "    <tr>\n",
       "      <th>2</th>\n",
       "      <td>sheriff david clarke becomes internet joke thr...</td>\n",
       "      <td>News</td>\n",
       "      <td>fake</td>\n",
       "      <td>349</td>\n",
       "    </tr>\n",
       "    <tr>\n",
       "      <th>3</th>\n",
       "      <td>trump obsessed even obamas name coded website ...</td>\n",
       "      <td>News</td>\n",
       "      <td>fake</td>\n",
       "      <td>273</td>\n",
       "    </tr>\n",
       "    <tr>\n",
       "      <th>4</th>\n",
       "      <td>pope francis called donald trump christmas spe...</td>\n",
       "      <td>News</td>\n",
       "      <td>fake</td>\n",
       "      <td>218</td>\n",
       "    </tr>\n",
       "  </tbody>\n",
       "</table>\n",
       "</div>"
      ],
      "text/plain": [
       "                                                text subject label  Word_Count\n",
       "0  donald trump sends embarrassing new year eve m...    News  fake         296\n",
       "1  drunk bragging trump staffer started russian c...    News  fake         187\n",
       "2  sheriff david clarke becomes internet joke thr...    News  fake         349\n",
       "3  trump obsessed even obamas name coded website ...    News  fake         273\n",
       "4  pope francis called donald trump christmas spe...    News  fake         218"
      ]
     },
     "execution_count": 29,
     "metadata": {},
     "output_type": "execute_result"
    }
   ],
   "source": [
    "# view some first rows of news data\n",
    "df_news.head()\n"
   ]
  },
  {
   "cell_type": "code",
   "execution_count": 30,
   "id": "e363cca7",
   "metadata": {},
   "outputs": [
    {
     "name": "stdout",
     "output_type": "stream",
     "text": [
      "\n",
      "The mean count of word per article is  242\n",
      "\n",
      "The maximum count of word per article is  4933\n",
      "\n",
      "The minimum count of word per article is  2\n"
     ]
    }
   ],
   "source": [
    "# The average count of word per article\n",
    "print(\"\\nThe mean count of word per article is \", round(np.mean(df_news.Word_Count)))\n",
    "\n",
    "# The maximum count of word per article\n",
    "print(\"\\nThe maximum count of word per article is \", round(np.max(df_news.Word_Count)))\n",
    "\n",
    "# The minimum count of word per article\n",
    "print(\"\\nThe minimum count of word per article is \", round(np.min(df_news.Word_Count)))\n"
   ]
  },
  {
   "cell_type": "code",
   "execution_count": 31,
   "id": "12a09030",
   "metadata": {},
   "outputs": [
    {
     "data": {
      "image/png": "[encoded data removed]",
      "text/plain": [
       "<Figure size 720x432 with 1 Axes>"
      ]
     },
     "metadata": {
      "needs_background": "light"
     },
     "output_type": "display_data"
    }
   ],
   "source": [
    "# plot the count of word per article\n",
    "fig, ax = plt.subplots(figsize=(10,6))\n",
    "df_news['Word_Count'].plot(kind='hist')\n",
    "plt.xlabel(\"Word Count\")\n",
    "plt.xticks(rotation=360)\n",
    "plt.ylabel(\"Count\")\n",
    "plt.title(\"Figure 7. The count of words per Article\\n\")\n",
    "plt.show()\n"
   ]
  },
  {
   "cell_type": "markdown",
   "id": "d06a8d92",
   "metadata": {},
   "source": [
    "We see that the average count of words per article is about 252 and looking at Figure 7, there are some outliers that have over 1000 word count per article. Thus, I would like to remove articles that have more than 1000 words. And then I will plot the count of words per subject."
   ]
  },
  {
   "cell_type": "code",
   "execution_count": 32,
   "id": "8409a4ae",
   "metadata": {},
   "outputs": [
    {
     "data": {
      "text/plain": [
       "44189"
      ]
     },
     "execution_count": 32,
     "metadata": {},
     "output_type": "execute_result"
    }
   ],
   "source": [
    "# remove outliers have more than 1000 words\n",
    "df_news = df_news[df_news.Word_Count <= 1000]\n",
    "len(df_news)\n"
   ]
  },
  {
   "cell_type": "code",
   "execution_count": 33,
   "id": "db3595e4",
   "metadata": {},
   "outputs": [
    {
     "data": {
      "image/png": "[encoded data removed]",
      "text/plain": [
       "<Figure size 720x720 with 1 Axes>"
      ]
     },
     "metadata": {
      "needs_background": "light"
     },
     "output_type": "display_data"
    }
   ],
   "source": [
    "# visualize the count of words per subject\n",
    "fig, ax = plt.subplots(figsize=(10, 10))\n",
    "sns.boxplot(data = df_news, x = 'subject', y = 'Word_Count', palette = 'colorblind'\n",
    "           ).set(title = 'Figure 8. The count of words per subject\\n')\n",
    "plt.show()\n"
   ]
  },
  {
   "cell_type": "markdown",
   "id": "b7011c29",
   "metadata": {},
   "source": [
    "Looking at Figure 8, we observe that the mean of word count of each subject is not different much, News and politics News have more words than other subjects. There is a greater variability for US News and Middle-east compare with others."
   ]
  },
  {
   "cell_type": "code",
   "execution_count": 34,
   "id": "d15dd238",
   "metadata": {},
   "outputs": [
    {
     "data": {
      "image/png": "[encoded data removed]",
      "text/plain": [
       "<Figure size 720x720 with 1 Axes>"
      ]
     },
     "metadata": {
      "needs_background": "light"
     },
     "output_type": "display_data"
    }
   ],
   "source": [
    "# visualize the count of words per label\n",
    "fig, ax = plt.subplots(figsize=(10, 10))\n",
    "sns.boxplot(data = df_news, x = 'label', y = 'Word_Count', palette = 'colorblind'\n",
    "           ).set(title = 'Figure 9. The count of words per label\\n')\n",
    "plt.show()\n"
   ]
  },
  {
   "cell_type": "markdown",
   "id": "1a35f04f",
   "metadata": {},
   "source": [
    "Looking at figure 9, we observe that the mean of word count of fake and true news is approximately the same, the variability for true news is a little bit greater than fake news."
   ]
  },
  {
   "cell_type": "markdown",
   "id": "2d3c3dfc",
   "metadata": {},
   "source": [
    "#### Split data"
   ]
  },
  {
   "cell_type": "markdown",
   "id": "1cee5d67",
   "metadata": {},
   "source": [
    "After cleaning, to prepare for building and training models, I'll:\n",
    "+ first, drop word_count column.   \n",
    "+ split 20% of the data into test set. Noted that, I'll use sklearn train_test_split to split the data, with default shuffle = True, means this method will split our data into random train and test subsets.  \n"
   ]
  },
  {
   "cell_type": "code",
   "execution_count": 35,
   "id": "201c3cec",
   "metadata": {},
   "outputs": [
    {
     "name": "stdout",
     "output_type": "stream",
     "text": [
      "Training set:\n"
     ]
    },
    {
     "data": {
      "text/html": [
       "<div>\n",
       "<style scoped>\n",
       "    .dataframe tbody tr th:only-of-type {\n",
       "        vertical-align: middle;\n",
       "    }\n",
       "\n",
       "    .dataframe tbody tr th {\n",
       "        vertical-align: top;\n",
       "    }\n",
       "\n",
       "    .dataframe thead th {\n",
       "        text-align: right;\n",
       "    }\n",
       "</style>\n",
       "<table border=\"1\" class=\"dataframe\">\n",
       "  <thead>\n",
       "    <tr style=\"text-align: right;\">\n",
       "      <th></th>\n",
       "      <th>text</th>\n",
       "      <th>subject</th>\n",
       "      <th>label</th>\n",
       "    </tr>\n",
       "  </thead>\n",
       "  <tbody>\n",
       "    <tr>\n",
       "      <th>41208</th>\n",
       "      <td>mattis say u work stay aligned turkey despite ...</td>\n",
       "      <td>worldnews</td>\n",
       "      <td>true</td>\n",
       "    </tr>\n",
       "    <tr>\n",
       "      <th>26913</th>\n",
       "      <td>trump dismay anger ally abandoning global clim...</td>\n",
       "      <td>politicsNews</td>\n",
       "      <td>true</td>\n",
       "    </tr>\n",
       "    <tr>\n",
       "      <th>16381</th>\n",
       "      <td>obama made christian pastor pay ticket home ir...</td>\n",
       "      <td>Government News</td>\n",
       "      <td>fake</td>\n",
       "    </tr>\n",
       "    <tr>\n",
       "      <th>35960</th>\n",
       "      <td>bulgaria freeze asset independent medium publi...</td>\n",
       "      <td>worldnews</td>\n",
       "      <td>true</td>\n",
       "    </tr>\n",
       "    <tr>\n",
       "      <th>41134</th>\n",
       "      <td>zimbabwe ruling party plan vote strengthen mug...</td>\n",
       "      <td>worldnews</td>\n",
       "      <td>true</td>\n",
       "    </tr>\n",
       "  </tbody>\n",
       "</table>\n",
       "</div>"
      ],
      "text/plain": [
       "                                                    text          subject  \\\n",
       "41208  mattis say u work stay aligned turkey despite ...        worldnews   \n",
       "26913  trump dismay anger ally abandoning global clim...     politicsNews   \n",
       "16381  obama made christian pastor pay ticket home ir...  Government News   \n",
       "35960  bulgaria freeze asset independent medium publi...        worldnews   \n",
       "41134  zimbabwe ruling party plan vote strengthen mug...        worldnews   \n",
       "\n",
       "      label  \n",
       "41208  true  \n",
       "26913  true  \n",
       "16381  fake  \n",
       "35960  true  \n",
       "41134  true  "
      ]
     },
     "execution_count": 35,
     "metadata": {},
     "output_type": "execute_result"
    }
   ],
   "source": [
    "# drop word_count column \n",
    "df_news = df_news.drop(columns='Word_Count')\n",
    "\n",
    "# shuffle and split the data into train and test set\n",
    "train, test = train_test_split(df_news, test_size=0.2, random_state = 42)\n",
    "\n",
    "# view some first rows of train data\n",
    "print('Training set:')\n",
    "train. head()\n"
   ]
  },
  {
   "cell_type": "code",
   "execution_count": 36,
   "id": "7d9859d0",
   "metadata": {},
   "outputs": [
    {
     "data": {
      "text/plain": [
       "(35351, 3)"
      ]
     },
     "execution_count": 36,
     "metadata": {},
     "output_type": "execute_result"
    }
   ],
   "source": [
    "# get shape of train dataset after splitting\n",
    "train.shape"
   ]
  },
  {
   "cell_type": "code",
   "execution_count": 37,
   "id": "3c7b3ae1",
   "metadata": {},
   "outputs": [
    {
     "name": "stdout",
     "output_type": "stream",
     "text": [
      "Test set:\n"
     ]
    },
    {
     "data": {
      "text/html": [
       "<div>\n",
       "<style scoped>\n",
       "    .dataframe tbody tr th:only-of-type {\n",
       "        vertical-align: middle;\n",
       "    }\n",
       "\n",
       "    .dataframe tbody tr th {\n",
       "        vertical-align: top;\n",
       "    }\n",
       "\n",
       "    .dataframe thead th {\n",
       "        text-align: right;\n",
       "    }\n",
       "</style>\n",
       "<table border=\"1\" class=\"dataframe\">\n",
       "  <thead>\n",
       "    <tr style=\"text-align: right;\">\n",
       "      <th></th>\n",
       "      <th>text</th>\n",
       "      <th>subject</th>\n",
       "      <th>label</th>\n",
       "    </tr>\n",
       "  </thead>\n",
       "  <tbody>\n",
       "    <tr>\n",
       "      <th>6430</th>\n",
       "      <td>happening trump say rudy giuliani head commiss...</td>\n",
       "      <td>News</td>\n",
       "      <td>fake</td>\n",
       "    </tr>\n",
       "    <tr>\n",
       "      <th>33613</th>\n",
       "      <td>u top court hand win union split 44 without sc...</td>\n",
       "      <td>politicsNews</td>\n",
       "      <td>true</td>\n",
       "    </tr>\n",
       "    <tr>\n",
       "      <th>34502</th>\n",
       "      <td>trump cruz tamp expectation uncertain iowa vot...</td>\n",
       "      <td>politicsNews</td>\n",
       "      <td>true</td>\n",
       "    </tr>\n",
       "    <tr>\n",
       "      <th>9772</th>\n",
       "      <td>college conservative stalked antifa campus sto...</td>\n",
       "      <td>politics</td>\n",
       "      <td>fake</td>\n",
       "    </tr>\n",
       "    <tr>\n",
       "      <th>20824</th>\n",
       "      <td>latina restaurant owner threatened called stag...</td>\n",
       "      <td>left-news</td>\n",
       "      <td>fake</td>\n",
       "    </tr>\n",
       "  </tbody>\n",
       "</table>\n",
       "</div>"
      ],
      "text/plain": [
       "                                                    text       subject label\n",
       "6430   happening trump say rudy giuliani head commiss...          News  fake\n",
       "33613  u top court hand win union split 44 without sc...  politicsNews  true\n",
       "34502  trump cruz tamp expectation uncertain iowa vot...  politicsNews  true\n",
       "9772   college conservative stalked antifa campus sto...      politics  fake\n",
       "20824  latina restaurant owner threatened called stag...     left-news  fake"
      ]
     },
     "execution_count": 37,
     "metadata": {},
     "output_type": "execute_result"
    }
   ],
   "source": [
    "# view some first rows of test data\n",
    "print('Test set:')\n",
    "test.head()\n"
   ]
  },
  {
   "cell_type": "code",
   "execution_count": 38,
   "id": "2314d270",
   "metadata": {},
   "outputs": [
    {
     "data": {
      "text/plain": [
       "(8838, 3)"
      ]
     },
     "execution_count": 38,
     "metadata": {},
     "output_type": "execute_result"
    }
   ],
   "source": [
    "# get shape of test set after splitting\n",
    "test.shape\n"
   ]
  },
  {
   "cell_type": "markdown",
   "id": "a46cab17",
   "metadata": {},
   "source": [
    "## Step 4: Building and training models"
   ]
  },
  {
   "cell_type": "markdown",
   "id": "fd448622",
   "metadata": {},
   "source": [
    "### 4.1 Vectorizing Text by TfidfVectorizer"
   ]
  },
  {
   "cell_type": "markdown",
   "id": "6925eb0d",
   "metadata": {},
   "source": [
    "Text data requires a special approach to machine learning. This is because text data can have hundreds of thousands of dimensions (words and phrases) but tends to be very sparse. For example, the English language has around 100,000 words in common use. But in this data, average word count of an article only contains about 240 words. \n",
    "\n",
    "Machines, unlike humans, cannot understand the raw text. Machines can only see numbers. Particularly, statistical techniques such as machine learning can only deal with numbers. Therefore, we need to convert our text into numbers (vectors) so as the algorithms will be able make predictions.\n",
    "\n",
    "Different approaches exist to convert text into the corresponding numerical form. In this case I will use the Term Frequency — Inverse Document Frequency (TFIDF) weight to evaluate how important a word is to a document in a collection of documents. Note that we are passing a number of parameters to this work:\n",
    "    \n",
    "+ min_df is used for removing terms that appear too infrequently, set to 2 means \"ignore word that appear in less than 2 articles\". This is to avoid rare words, which drastically increase the size of our features and might cause overfitting.      \n",
    "+ max_df is used for removing terms that appear too frequently, set to 0.95 means \"ignore terms that appear in more than 95% of the documents\".    \n",
    "+ norm is set to l2, to ensure all our feature vectors have a euclidian norm of 1. This is helpful for visualizing these vectors, and can also improve (or deteriorate) the performance of some models.   \n",
    "+ ngram_range is set to (1, 2) to indicate that we want to consider both unigrams and bigrams, or in other terms: we want to consider single words (\"prices\", \"player\") and pairs of words (\"stock prices\", \"football player\").   \n",
    "+ stop_words is set to \"english\" to remove all common pronouns (\"a\", \"the\", ...) and further reduce the number of noisy features.   \n",
    "+ sublinear_df is set to True to use a logarithmic form for frequency, to give diminishing returns as the frequency of a word increases.   \n"
   ]
  },
  {
   "cell_type": "code",
   "execution_count": 39,
   "id": "8f4c4f02",
   "metadata": {},
   "outputs": [],
   "source": [
    "# use TFIDF to convert words into numerical features\n",
    "vectorizer = TfidfVectorizer(min_df=2, max_df=0.95, norm='l2', ngram_range=(1, 2), stop_words='english', sublinear_tf=True)\n",
    "\n",
    "# fit and transform on train data\n",
    "X = vectorizer.fit_transform(train.text)"
   ]
  },
  {
   "cell_type": "code",
   "execution_count": 40,
   "id": "973f3f6c",
   "metadata": {},
   "outputs": [
    {
     "data": {
      "text/plain": [
       "array([[0., 0., 0., ..., 0., 0., 0.],\n",
       "       [0., 0., 0., ..., 0., 0., 0.],\n",
       "       [0., 0., 0., ..., 0., 0., 0.],\n",
       "       ...,\n",
       "       [0., 0., 0., ..., 0., 0., 0.],\n",
       "       [0., 0., 0., ..., 0., 0., 0.],\n",
       "       [0., 0., 0., ..., 0., 0., 0.]])"
      ]
     },
     "execution_count": 40,
     "metadata": {},
     "output_type": "execute_result"
    }
   ],
   "source": [
    "# Get a feel of the features identified by tfidf\n",
    "X.toarray()\n"
   ]
  },
  {
   "cell_type": "code",
   "execution_count": 41,
   "id": "7c5628ee",
   "metadata": {},
   "outputs": [
    {
     "data": {
      "text/plain": [
       "(35351, 1124227)"
      ]
     },
     "execution_count": 41,
     "metadata": {},
     "output_type": "execute_result"
    }
   ],
   "source": [
    "# get the shape of the features\n",
    "X.shape\n"
   ]
  },
  {
   "cell_type": "markdown",
   "id": "ed316b2d",
   "metadata": {},
   "source": [
    "### 4.2 Unsupervised Machine Learning for Natural Language Processing and Text Analytics\n",
    "\n",
    "Unsupervised machine learning involves training a model without pre-tagging or annotating. \n"
   ]
  },
  {
   "cell_type": "markdown",
   "id": "27297304",
   "metadata": {},
   "source": [
    "#### 4.2.1 NMF"
   ]
  },
  {
   "cell_type": "markdown",
   "id": "e548d870",
   "metadata": {},
   "source": [
    "Matrix Factorization is another technique for unsupervised NLP machine learning. This uses “latent factors” to break a large matrix down into the combination of two smaller matrices. Latent factors are similarities between the items.\n",
    "\n",
    "In this project, I would like to build a Non-Negative Matrix Factorization (NMF) model.  I will pass n_components=2 into the model because we have 2 labels, with other parameters, in order to find best ones for this model, I will: \n",
    "+ create predict function: this function predict label of an article based on the largest value of each row in features matrix.\n",
    "+ create label_permute_compare function: this function will return permuted label order, accuracy and RMSE score.  \n",
    "\n",
    "Then, I will apply these two functions into the next step that programmatically evaluate which init, solver and beta_loss metric lead to the best performance.  \n"
   ]
  },
  {
   "cell_type": "code",
   "execution_count": 42,
   "id": "fe99a9df",
   "metadata": {},
   "outputs": [],
   "source": [
    "# create predict function\n",
    "def predict(W_matrix):\n",
    "    sortedW = np.argsort(W_matrix)\n",
    "    n_prediction, maxValue = sortedW.shape\n",
    "    prediction = [[sortedW[i][maxValue - 1]] for i in range(n_prediction)]\n",
    "    topic = np.empty(n_prediction, dtype = np.int64)\n",
    "    for i in range(n_prediction):\n",
    "        topic[i] = prediction[i][0]\n",
    "    return topic\n"
   ]
  },
  {
   "cell_type": "code",
   "execution_count": 43,
   "id": "4da71a8c",
   "metadata": {},
   "outputs": [],
   "source": [
    "# create label permuation compare\n",
    "def label_permute_compare(ytdf, yp, n=2):\n",
    "    \"\"\"\n",
    "    ytdf: labels dataframe object\n",
    "    yp: clustering label prediction output\n",
    "    Returns permuted label order and accuracy. \n",
    "    Example output: (3, 4, 1, 2, 0), 0.74 \n",
    "    \"\"\"\n",
    "    p = list(itertools.permutations(list(range(n))))\n",
    "    label_ls = list(ytdf['label'].unique())\n",
    "    acc_score = []\n",
    "    rmse_score = []\n",
    "    #recall_score = []\n",
    "    #pre_score = []\n",
    "    #f1_score = []\n",
    "    for i in range(len(p)):\n",
    "        map_dict = dict(zip(label_ls, list(p[i])))\n",
    "        yt = ytdf['label'].apply(lambda x:map_dict[x])\n",
    "        acc_score.append(accuracy_score(yt, yp))\n",
    "        #recall_score.append(recall_score(yt, yp))\n",
    "        #pre_score.append(precision_score(yt, yp))\n",
    "        #f1_score.append(f1_score(yt, yp))\n",
    "        rmse_score.append(np.sqrt(mean_squared_error(yt, yp)))\n",
    "    index = np.argmax(acc_score)\n",
    "    #return p[index], acc_score[index], recall_score[index], pre_score[index], f1_score[index]\n",
    "    return p[index], acc_score[index], rmse_score[index]\n"
   ]
  },
  {
   "cell_type": "code",
   "execution_count": 46,
   "id": "f1c32024",
   "metadata": {},
   "outputs": [
    {
     "name": "stdout",
     "output_type": "stream",
     "text": [
      "random with kullback-leibler with cd not allowed.\n",
      "random with itakura-saito with cd not allowed.\n",
      "random with itakura-saito with mu not allowed.\n",
      "nndsvda with kullback-leibler with cd not allowed.\n",
      "nndsvda with itakura-saito with cd not allowed.\n",
      "nndsvda with itakura-saito with mu not allowed.\n",
      "nndsvdar with kullback-leibler with cd not allowed.\n",
      "nndsvdar with itakura-saito with cd not allowed.\n",
      "nndsvdar with itakura-saito with mu not allowed.\n",
      "custom with frobenius with cd not allowed.\n",
      "custom with frobenius with mu not allowed.\n",
      "custom with kullback-leibler with cd not allowed.\n",
      "custom with kullback-leibler with mu not allowed.\n",
      "custom with itakura-saito with cd not allowed.\n",
      "custom with itakura-saito with mu not allowed.\n"
     ]
    },
    {
     "data": {
      "text/html": [
       "<div>\n",
       "<style scoped>\n",
       "    .dataframe tbody tr th:only-of-type {\n",
       "        vertical-align: middle;\n",
       "    }\n",
       "\n",
       "    .dataframe tbody tr th {\n",
       "        vertical-align: top;\n",
       "    }\n",
       "\n",
       "    .dataframe thead th {\n",
       "        text-align: right;\n",
       "    }\n",
       "</style>\n",
       "<table border=\"1\" class=\"dataframe\">\n",
       "  <thead>\n",
       "    <tr style=\"text-align: right;\">\n",
       "      <th></th>\n",
       "      <th>time</th>\n",
       "      <th>init</th>\n",
       "      <th>solver</th>\n",
       "      <th>beta_loss</th>\n",
       "      <th>labelorder</th>\n",
       "      <th>acc</th>\n",
       "      <th>rmse</th>\n",
       "    </tr>\n",
       "  </thead>\n",
       "  <tbody>\n",
       "    <tr>\n",
       "      <th>3</th>\n",
       "      <td>32.389216</td>\n",
       "      <td>nndsvda</td>\n",
       "      <td>cd</td>\n",
       "      <td>frobenius</td>\n",
       "      <td>(1, 0)</td>\n",
       "      <td>0.819864</td>\n",
       "      <td>0.424425</td>\n",
       "    </tr>\n",
       "    <tr>\n",
       "      <th>6</th>\n",
       "      <td>28.144366</td>\n",
       "      <td>nndsvdar</td>\n",
       "      <td>cd</td>\n",
       "      <td>frobenius</td>\n",
       "      <td>(1, 0)</td>\n",
       "      <td>0.819864</td>\n",
       "      <td>0.424425</td>\n",
       "    </tr>\n",
       "    <tr>\n",
       "      <th>1</th>\n",
       "      <td>9.588517</td>\n",
       "      <td>random</td>\n",
       "      <td>mu</td>\n",
       "      <td>frobenius</td>\n",
       "      <td>(0, 1)</td>\n",
       "      <td>0.814065</td>\n",
       "      <td>0.431202</td>\n",
       "    </tr>\n",
       "    <tr>\n",
       "      <th>8</th>\n",
       "      <td>126.670549</td>\n",
       "      <td>nndsvdar</td>\n",
       "      <td>mu</td>\n",
       "      <td>kullback-leibler</td>\n",
       "      <td>(1, 0)</td>\n",
       "      <td>0.806455</td>\n",
       "      <td>0.439937</td>\n",
       "    </tr>\n",
       "    <tr>\n",
       "      <th>5</th>\n",
       "      <td>104.159139</td>\n",
       "      <td>nndsvda</td>\n",
       "      <td>mu</td>\n",
       "      <td>kullback-leibler</td>\n",
       "      <td>(1, 0)</td>\n",
       "      <td>0.804843</td>\n",
       "      <td>0.441766</td>\n",
       "    </tr>\n",
       "    <tr>\n",
       "      <th>4</th>\n",
       "      <td>13.074447</td>\n",
       "      <td>nndsvda</td>\n",
       "      <td>mu</td>\n",
       "      <td>frobenius</td>\n",
       "      <td>(1, 0)</td>\n",
       "      <td>0.744477</td>\n",
       "      <td>0.505493</td>\n",
       "    </tr>\n",
       "    <tr>\n",
       "      <th>7</th>\n",
       "      <td>12.844088</td>\n",
       "      <td>nndsvdar</td>\n",
       "      <td>mu</td>\n",
       "      <td>frobenius</td>\n",
       "      <td>(1, 0)</td>\n",
       "      <td>0.740149</td>\n",
       "      <td>0.509756</td>\n",
       "    </tr>\n",
       "    <tr>\n",
       "      <th>2</th>\n",
       "      <td>274.391801</td>\n",
       "      <td>random</td>\n",
       "      <td>mu</td>\n",
       "      <td>kullback-leibler</td>\n",
       "      <td>(0, 1)</td>\n",
       "      <td>0.679189</td>\n",
       "      <td>0.566402</td>\n",
       "    </tr>\n",
       "    <tr>\n",
       "      <th>0</th>\n",
       "      <td>6.443513</td>\n",
       "      <td>random</td>\n",
       "      <td>cd</td>\n",
       "      <td>frobenius</td>\n",
       "      <td>(1, 0)</td>\n",
       "      <td>0.514865</td>\n",
       "      <td>0.696516</td>\n",
       "    </tr>\n",
       "  </tbody>\n",
       "</table>\n",
       "</div>"
      ],
      "text/plain": [
       "         time      init solver         beta_loss labelorder       acc  \\\n",
       "3   32.389216   nndsvda     cd         frobenius     (1, 0)  0.819864   \n",
       "6   28.144366  nndsvdar     cd         frobenius     (1, 0)  0.819864   \n",
       "1    9.588517    random     mu         frobenius     (0, 1)  0.814065   \n",
       "8  126.670549  nndsvdar     mu  kullback-leibler     (1, 0)  0.806455   \n",
       "5  104.159139   nndsvda     mu  kullback-leibler     (1, 0)  0.804843   \n",
       "4   13.074447   nndsvda     mu         frobenius     (1, 0)  0.744477   \n",
       "7   12.844088  nndsvdar     mu         frobenius     (1, 0)  0.740149   \n",
       "2  274.391801    random     mu  kullback-leibler     (0, 1)  0.679189   \n",
       "0    6.443513    random     cd         frobenius     (1, 0)  0.514865   \n",
       "\n",
       "       rmse  \n",
       "3  0.424425  \n",
       "6  0.424425  \n",
       "1  0.431202  \n",
       "8  0.439937  \n",
       "5  0.441766  \n",
       "4  0.505493  \n",
       "7  0.509756  \n",
       "2  0.566402  \n",
       "0  0.696516  "
      ]
     },
     "metadata": {},
     "output_type": "display_data"
    }
   ],
   "source": [
    "# programmatically evaluate which init, solver and beta_loss metric lead to the best performance\n",
    "\n",
    "#dic = {\"time\":0, \"init\":\"\", \"solver\": \"\", \"beta_loss\":\"\", \"labelorder\":[], \"acc\":0, \"recall\":0, \"precision\":0, \"f1\":0}\n",
    "dic = {\"time\":0, \"init\":\"\", \"solver\": \"\", \"beta_loss\":\"\", \"labelorder\":[], \"acc\":0, \"rmse\":0}\n",
    "df_nmf = pd.DataFrame(dic)\n",
    "for init in [\"random\", \"nndsvda\", \"nndsvdar\", \"custom\"]:\n",
    "    for beta_loss in [\"frobenius\", \"kullback-leibler\", \"itakura-saito\"]:\n",
    "        for solver in [\"cd\", \"mu\"]:\n",
    "            acc = 0\n",
    "            t0 = time.time()\n",
    "            try:\n",
    "                model = NMF(n_components=2, init=init, solver = solver, beta_loss=beta_loss, random_state = 42)\n",
    "                yhat_train = predict(model.fit_transform(X))\n",
    "                label_order, acc, rmse = label_permute_compare(train, yhat_train)\n",
    "                t1 = time.time()\n",
    "                df_nmf.loc[len(df_nmf.index)] = [t1-t0, init, solver, beta_loss, label_order, acc, rmse]\n",
    "              \n",
    "            except:\n",
    "                print(init, \"with\", beta_loss, \"with\", solver, \"not allowed.\")\n",
    "df_nmf = df_nmf.sort_values(by='acc', ascending = False)\n",
    "display(df_nmf)\n"
   ]
  },
  {
   "cell_type": "code",
   "execution_count": 47,
   "id": "cb70fcc0",
   "metadata": {},
   "outputs": [],
   "source": [
    "# show the best model\n",
    "best_nmf_model = NMF(n_components=2, init=\"nndsvda\", solver = \"cd\", beta_loss=\"frobenius\", random_state = 42)\n",
    "\n",
    "# fit and transform the model to TF-IDF:\n",
    "W = best_nmf_model.fit_transform(X)\n",
    "H = best_nmf_model.components_\n"
   ]
  },
  {
   "cell_type": "code",
   "execution_count": 48,
   "id": "ee742a6a",
   "metadata": {},
   "outputs": [
    {
     "data": {
      "text/plain": [
       "(35351, 2)"
      ]
     },
     "execution_count": 48,
     "metadata": {},
     "output_type": "execute_result"
    }
   ],
   "source": [
    "# features dimension\n",
    "W.shape"
   ]
  },
  {
   "cell_type": "code",
   "execution_count": 49,
   "id": "de7f903e",
   "metadata": {},
   "outputs": [
    {
     "data": {
      "text/plain": [
       "(2, 1124227)"
      ]
     },
     "execution_count": 49,
     "metadata": {},
     "output_type": "execute_result"
    }
   ],
   "source": [
    "# components dimension\n",
    "H.shape"
   ]
  },
  {
   "cell_type": "code",
   "execution_count": 50,
   "id": "1bd2959c",
   "metadata": {},
   "outputs": [
    {
     "data": {
      "text/html": [
       "<div>\n",
       "<style scoped>\n",
       "    .dataframe tbody tr th:only-of-type {\n",
       "        vertical-align: middle;\n",
       "    }\n",
       "\n",
       "    .dataframe tbody tr th {\n",
       "        vertical-align: top;\n",
       "    }\n",
       "\n",
       "    .dataframe thead th {\n",
       "        text-align: right;\n",
       "    }\n",
       "</style>\n",
       "<table border=\"1\" class=\"dataframe\">\n",
       "  <thead>\n",
       "    <tr style=\"text-align: right;\">\n",
       "      <th></th>\n",
       "      <th>00</th>\n",
       "      <th>000</th>\n",
       "      <th>000 child</th>\n",
       "      <th>000 hospital</th>\n",
       "      <th>000 today</th>\n",
       "      <th>000 year</th>\n",
       "      <th>0000</th>\n",
       "      <th>0000 gmt</th>\n",
       "      <th>0005</th>\n",
       "      <th>0005 kilogram</th>\n",
       "      <th>...</th>\n",
       "      <th>zych said</th>\n",
       "      <th>zygote</th>\n",
       "      <th>zynga</th>\n",
       "      <th>zynga medium</th>\n",
       "      <th>zypries</th>\n",
       "      <th>zypries said</th>\n",
       "      <th>zyuganov</th>\n",
       "      <th>zzzzaaaacccchhh</th>\n",
       "      <th>žižek</th>\n",
       "      <th>žižek american</th>\n",
       "    </tr>\n",
       "  </thead>\n",
       "  <tbody>\n",
       "    <tr>\n",
       "      <th>0</th>\n",
       "      <td>0.000351</td>\n",
       "      <td>0.000861</td>\n",
       "      <td>0.000122</td>\n",
       "      <td>0.000087</td>\n",
       "      <td>0.000087</td>\n",
       "      <td>0.000087</td>\n",
       "      <td>0.000069</td>\n",
       "      <td>0.000069</td>\n",
       "      <td>0.000000</td>\n",
       "      <td>0.000000</td>\n",
       "      <td>...</td>\n",
       "      <td>0.000140</td>\n",
       "      <td>0.000221</td>\n",
       "      <td>0.000302</td>\n",
       "      <td>0.000071</td>\n",
       "      <td>0.000000</td>\n",
       "      <td>0.00000</td>\n",
       "      <td>0.000046</td>\n",
       "      <td>0.000353</td>\n",
       "      <td>0.000265</td>\n",
       "      <td>0.000265</td>\n",
       "    </tr>\n",
       "    <tr>\n",
       "      <th>1</th>\n",
       "      <td>0.000102</td>\n",
       "      <td>0.000000</td>\n",
       "      <td>0.000000</td>\n",
       "      <td>0.000015</td>\n",
       "      <td>0.000015</td>\n",
       "      <td>0.000015</td>\n",
       "      <td>0.000177</td>\n",
       "      <td>0.000177</td>\n",
       "      <td>0.000294</td>\n",
       "      <td>0.000294</td>\n",
       "      <td>...</td>\n",
       "      <td>0.000008</td>\n",
       "      <td>0.000000</td>\n",
       "      <td>0.000219</td>\n",
       "      <td>0.000092</td>\n",
       "      <td>0.001349</td>\n",
       "      <td>0.00089</td>\n",
       "      <td>0.000236</td>\n",
       "      <td>0.000000</td>\n",
       "      <td>0.000000</td>\n",
       "      <td>0.000000</td>\n",
       "    </tr>\n",
       "  </tbody>\n",
       "</table>\n",
       "<p>2 rows × 1124227 columns</p>\n",
       "</div>"
      ],
      "text/plain": [
       "         00       000  000 child  000 hospital  000 today  000 year      0000  \\\n",
       "0  0.000351  0.000861   0.000122      0.000087   0.000087  0.000087  0.000069   \n",
       "1  0.000102  0.000000   0.000000      0.000015   0.000015  0.000015  0.000177   \n",
       "\n",
       "   0000 gmt      0005  0005 kilogram  ...  zych said    zygote     zynga  \\\n",
       "0  0.000069  0.000000       0.000000  ...   0.000140  0.000221  0.000302   \n",
       "1  0.000177  0.000294       0.000294  ...   0.000008  0.000000  0.000219   \n",
       "\n",
       "   zynga medium   zypries  zypries said  zyuganov  zzzzaaaacccchhh     žižek  \\\n",
       "0      0.000071  0.000000       0.00000  0.000046         0.000353  0.000265   \n",
       "1      0.000092  0.001349       0.00089  0.000236         0.000000  0.000000   \n",
       "\n",
       "   žižek american  \n",
       "0        0.000265  \n",
       "1        0.000000  \n",
       "\n",
       "[2 rows x 1124227 columns]"
      ]
     },
     "execution_count": 50,
     "metadata": {},
     "output_type": "execute_result"
    }
   ],
   "source": [
    "# Create a DataFrame: components_df\n",
    "components_df = pd.DataFrame(H, columns=vectorizer.get_feature_names())\n",
    "components_df\n"
   ]
  },
  {
   "cell_type": "markdown",
   "id": "6ef77c3c",
   "metadata": {},
   "source": [
    "We have created the 2 labels using NMF. Let’s have a look at the 10 more important words for each label.\n"
   ]
  },
  {
   "cell_type": "code",
   "execution_count": 51,
   "id": "aef4c125",
   "metadata": {},
   "outputs": [
    {
     "name": "stdout",
     "output_type": "stream",
     "text": [
      "For label fake, the words with the highest value are:\n",
      "trump           0.928233\n",
      "republican      0.570412\n",
      "clinton         0.456049\n",
      "donald          0.445448\n",
      "donald trump    0.426279\n",
      "people          0.413081\n",
      "president       0.402421\n",
      "image           0.383837\n",
      "like            0.382337\n",
      "said            0.381882\n",
      "Name: 0, dtype: float64\n",
      "\n",
      "\n",
      "For label true, the words with the highest value are:\n",
      "said            0.590084\n",
      "reuters         0.456924\n",
      "state           0.418777\n",
      "united          0.359840\n",
      "minister        0.355655\n",
      "government      0.354960\n",
      "north           0.317334\n",
      "korea           0.314728\n",
      "official        0.306373\n",
      "united state    0.301514\n",
      "Name: 1, dtype: float64\n",
      "\n",
      "\n"
     ]
    }
   ],
   "source": [
    "# get 10 more important words for each label\n",
    "mapdict_df = dict(zip(label_order, list(train[\"label\"].unique())))\n",
    "for label in range(components_df.shape[0]):\n",
    "    tmp = components_df.iloc[label]    \n",
    "    print(f'For label {mapdict_df[label]}, the words with the highest value are:')\n",
    "    print(tmp.nlargest(10))\n",
    "    print('\\n')\n",
    "    "
   ]
  },
  {
   "cell_type": "markdown",
   "id": "3d47298f",
   "metadata": {},
   "source": [
    "#### Use best NMF model to predict test data"
   ]
  },
  {
   "cell_type": "code",
   "execution_count": 57,
   "id": "6dfb4378",
   "metadata": {},
   "outputs": [
    {
     "name": "stdout",
     "output_type": "stream",
     "text": [
      "\n",
      "Label order for test set based on best NMF model:  {'fake': 0, 'true': 1}\n",
      "\n",
      "Accuracy for test set based on best NMF model: 83.661%\n",
      "\n",
      "RMSE for test set based on best NMF model: 0.404\n"
     ]
    }
   ],
   "source": [
    "# use best model for predicting test set and calculate accuracy\n",
    "X_test = vectorizer.fit_transform(test.text)\n",
    "W_test = best_nmf_model.fit_transform(X_test)\n",
    "\n",
    "# predict label for test data\n",
    "yhat_test = predict(W_test)\n",
    "#label_order_test, accuracy_test, recall_test, pre_test, f1_test = label_permute_compare(test, yhat_test)\n",
    "label_order_test, accuracy_test, rmse_test = label_permute_compare(test, yhat_test)\n",
    "mapdict_test = dict(zip(list(test[\"label\"].unique()), label_order_test))\n",
    "print('\\nLabel order for test set based on best NMF model: ', mapdict_test)\n",
    "print('\\nAccuracy for test set based on best NMF model: {:.3f}%'.format(accuracy_test*100))\n",
    "print('\\nRMSE for test set based on best NMF model: {:.3f}'.format(rmse_test))\n",
    "#print('\\nRecall score for test set based on best NMF model: {:.3f}%'.format(recall_test*100))\n",
    "#print('\\nPrecision score for test set based on best NMF model: {:.3f}%'.format(pre_test*100))\n",
    "#print('\\nF1 score for test set based on best NMF model: {:.3f}%'.format(f1_test*100))\n"
   ]
  },
  {
   "cell_type": "code",
   "execution_count": 53,
   "id": "a7588df8",
   "metadata": {},
   "outputs": [
    {
     "name": "stdout",
     "output_type": "stream",
     "text": [
      "\n",
      "Figure 10. Best NMF - Confusion matrix for test set: \n"
     ]
    },
    {
     "data": {
      "image/png": "[encoded data removed]",
      "text/plain": [
       "<Figure size 432x288 with 2 Axes>"
      ]
     },
     "metadata": {
      "needs_background": "light"
     },
     "output_type": "display_data"
    }
   ],
   "source": [
    "# Check confusion matrix\n",
    "yt_test = test[\"label\"].apply(lambda x: mapdict_test[x])\n",
    "print('\\nFigure 10. Best NMF - Confusion matrix for test set: ')\n",
    "cm = confusion_matrix(yt_test, yhat_test)\n",
    "\n",
    "# display confusion matrix\n",
    "disp = ConfusionMatrixDisplay(confusion_matrix=cm)\n",
    "disp.plot()\n",
    "plt.show()"
   ]
  },
  {
   "cell_type": "markdown",
   "id": "da7de2cd",
   "metadata": {},
   "source": [
    "From Figure 10, the confusion matrix for test set based on best NMF model, we can summarize that:  \n",
    "\n",
    "+ Our model predicted that 5394/8838 articles are fake news when there were actually 4654/8838 articles with fake news.  \n",
    "\n",
    "+ Our model has an accuracy of 7394/8838 or 83.661%\n"
   ]
  },
  {
   "cell_type": "markdown",
   "id": "84b34b99",
   "metadata": {},
   "source": [
    "#### 4.2.2 Kmeans"
   ]
  },
  {
   "cell_type": "markdown",
   "id": "42d6748c",
   "metadata": {},
   "source": [
    "Clustering means grouping similar documents together into groups or sets. These clusters are then sorted based on importance and relevancy (hierarchical clustering). \n",
    "\n",
    "K-means clustering is one of the simplest and popular unsupervised machine learning algorithms. The K-means algorithm identifies k number of centroids, and then allocates every data point to the nearest cluster, while keeping the centroids as small as possible. The ‘means’ in the K-means refers to averaging of the data, finding the centroid.  \n",
    "\n"
   ]
  },
  {
   "cell_type": "code",
   "execution_count": 54,
   "id": "3b1f6b6e",
   "metadata": {},
   "outputs": [],
   "source": [
    "# build kmeans model\n",
    "kmeans = KMeans(n_clusters=2, init = 'k-means++' , max_iter = 100, random_state=0).fit(X)\n",
    "\n",
    "# fit and transform kmeans model to TF-IDF:\n",
    "W_kmeans = kmeans.fit_transform(X)\n"
   ]
  },
  {
   "cell_type": "code",
   "execution_count": 55,
   "id": "0cbbe28e",
   "metadata": {},
   "outputs": [
    {
     "name": "stdout",
     "output_type": "stream",
     "text": [
      "\n",
      "Label order for test set based on Kmeans model:  {'fake': 0, 'true': 1}\n",
      "\n",
      "Accuracy for test set based on Kmeans model: 91.333%\n",
      "\n",
      "RMSE for test set based on best Kmeans model: 0.294\n"
     ]
    }
   ],
   "source": [
    "# use kmeans model for predicting test set and calculate accuracy\n",
    "X_test = vectorizer.fit_transform(test.text)\n",
    "W_test_kmeans = kmeans.fit_transform(X_test)\n",
    "\n",
    "# predict label for test data\n",
    "yhat_test_kmeans = predict(W_test_kmeans)\n",
    "label_order_test_kmeans, accuracy_test_kmeans, rmse_test_kmeans = label_permute_compare(test, yhat_test_kmeans)\n",
    "mapdict_test_kmeans = dict(zip(list(test[\"label\"].unique()), label_order_test_kmeans))\n",
    "print('\\nLabel order for test set based on Kmeans model: ', mapdict_test_kmeans)\n",
    "print('\\nAccuracy for test set based on Kmeans model: {:.3f}%'.format(accuracy_test_kmeans*100))\n",
    "print('\\nRMSE for test set based on best Kmeans model: {:.3f}'.format(rmse_test_kmeans))\n"
   ]
  },
  {
   "cell_type": "code",
   "execution_count": 56,
   "id": "d5fcfd7a",
   "metadata": {},
   "outputs": [
    {
     "name": "stdout",
     "output_type": "stream",
     "text": [
      "\n",
      "Figure 11. Kmeans - Confusion matrix for test set: \n"
     ]
    },
    {
     "data": {
      "image/png": "[encoded data removed]",
      "text/plain": [
       "<Figure size 432x288 with 2 Axes>"
      ]
     },
     "metadata": {
      "needs_background": "light"
     },
     "output_type": "display_data"
    }
   ],
   "source": [
    "# Check confusion matrix\n",
    "yt_test_kmeans = test[\"label\"].apply(lambda x: mapdict_test_kmeans[x])\n",
    "print('\\nFigure 11. Kmeans - Confusion matrix for test set: ')\n",
    "cm_kmeans = confusion_matrix(yt_test_kmeans, yhat_test_kmeans)\n",
    "\n",
    "# display confusion matrix\n",
    "disp_kmeans = ConfusionMatrixDisplay(confusion_matrix=cm_kmeans)\n",
    "disp_kmeans.plot()\n",
    "plt.show()\n"
   ]
  },
  {
   "cell_type": "markdown",
   "id": "a60332ff",
   "metadata": {},
   "source": [
    "From Figure 11, the confusion matrix for test set based on Kmeans model, we can summarize that:  \n",
    "\n",
    "+ Our model predicted that 4804/8838 articles are fake news when there were actually 4654/8838 articles with fake news.  \n",
    "\n",
    "+ Our model has an accuracy of 8072/8838 or 91.333%\n"
   ]
  },
  {
   "cell_type": "markdown",
   "id": "ea551646",
   "metadata": {},
   "source": [
    "####  4.2.3 Compare unsupervised learning models"
   ]
  },
  {
   "cell_type": "code",
   "execution_count": 58,
   "id": "501c8085",
   "metadata": {},
   "outputs": [
    {
     "name": "stdout",
     "output_type": "stream",
     "text": [
      "Compare unsupervised machine learning models on test data: \n"
     ]
    },
    {
     "data": {
      "text/html": [
       "<div>\n",
       "<style scoped>\n",
       "    .dataframe tbody tr th:only-of-type {\n",
       "        vertical-align: middle;\n",
       "    }\n",
       "\n",
       "    .dataframe tbody tr th {\n",
       "        vertical-align: top;\n",
       "    }\n",
       "\n",
       "    .dataframe thead th {\n",
       "        text-align: right;\n",
       "    }\n",
       "</style>\n",
       "<table border=\"1\" class=\"dataframe\">\n",
       "  <thead>\n",
       "    <tr style=\"text-align: right;\">\n",
       "      <th></th>\n",
       "      <th>Model</th>\n",
       "      <th>Accuracy</th>\n",
       "      <th>RMSE</th>\n",
       "    </tr>\n",
       "  </thead>\n",
       "  <tbody>\n",
       "    <tr>\n",
       "      <th>0</th>\n",
       "      <td>Kmeans</td>\n",
       "      <td>0.913329</td>\n",
       "      <td>0.29440</td>\n",
       "    </tr>\n",
       "    <tr>\n",
       "      <th>1</th>\n",
       "      <td>NMF</td>\n",
       "      <td>0.836615</td>\n",
       "      <td>0.40421</td>\n",
       "    </tr>\n",
       "  </tbody>\n",
       "</table>\n",
       "</div>"
      ],
      "text/plain": [
       "    Model  Accuracy     RMSE\n",
       "0  Kmeans  0.913329  0.29440\n",
       "1     NMF  0.836615  0.40421"
      ]
     },
     "metadata": {},
     "output_type": "display_data"
    }
   ],
   "source": [
    "# create unsupervised dataframe to compare NMF and Kmeans model on test data\n",
    "unsuper_models = {'Model': [\"NMF\", \"Kmeans\"],\n",
    "        'Accuracy': [accuracy_test, accuracy_test_kmeans],\n",
    "        'RMSE': [rmse_test, rmse_test_kmeans]}\n",
    "unsuper_data = pd.DataFrame(unsuper_models)\n",
    "unsuper_data = unsuper_data.sort_values(by='Accuracy', ascending = False, ignore_index=True)\n",
    "print(\"Compare unsupervised machine learning models on test data: \")\n",
    "display(unsuper_data)\n"
   ]
  },
  {
   "cell_type": "markdown",
   "id": "59d2f6ca",
   "metadata": {},
   "source": [
    "With the result above, we observe that Kmeans has better performance with higher Accuracy and lower RMSE."
   ]
  },
  {
   "cell_type": "markdown",
   "id": "abf89998",
   "metadata": {},
   "source": [
    "### 4.3 Supervised Machine Learning for Natural Language Processing and Text Analytics"
   ]
  },
  {
   "cell_type": "markdown",
   "id": "953df8eb",
   "metadata": {},
   "source": [
    "In supervised machine learning, a batch of text documents are tagged or annotated with examples of what the machine should look for and how it should interpret that aspect. These documents are used to “train” a statistical model, which is then given un-tagged text to analyze.\n",
    "\n",
    "In this project, since our train data has the labels, we can use supervised models to solve the label of each news article. That is, we look for a classifier that can take a word embedding as an input and predict a text class. To keep things simple, we will use the same preprocessing and word embedding produced by TfidfVectorizer with the same hyperparameters.\n",
    "\n",
    "I would like to choose building a Random Forest model, because it can perform classification tasks and produces good predictions that can be understood easily. Moreover, it can handle large datasets efficiently. The random forest algorithm provides a higher level of accuracy in predicting outcomes over the decision tree algorithm. To build Random Forest, I will do hyperparameter tuning for Random Forest using GridSearchCV to find the best one. Then fit the data and use it for predicting test data.\n",
    "\n",
    "Next, I would like to use some supervised NLP machine learning algorithms such as:  \n",
    "    + Logistic Regression  \n",
    "    + Decision Tree  \n",
    "    \n",
    "I choose to build Logistic Regression because it is a calculation used to predict a binary outcome: either something happens, or does not. And in this case, since we want to predict a news is fake news or not, thus Logistic Regression is suitable for this project.   \n",
    "\n",
    "Besides that, a decision tree is also good for this project because it is a supervised learning algorithm that is perfect for classification problems, as it’s able to order classes on a precise level. It works like a flow chart, separating data points into two similar categories at a time from the “tree trunk” to “branches,” to “leaves,” where the categories become more finitely similar. This creates categories within categories, allowing for organic classification with limited human supervision.\n",
    "    \n",
    "To do this work, first, I will a Random Forest model by using GridSearchCV to find the best one with best parameters and best score. Then I will use it to predict for test data, calculate accuracy score and confusion matrix as well. Since I prepare for building other supervised models as well, so I will create a pipeline function, it helps to enforce desired order of application steps, creating a convenient work-flow, which makes sure of the reproducibility of the work.\n",
    "\n",
    "After finding the best Random Forest model, I will use pipeline above to train Logistic Regression and Decision Tree to predict for test data, calculate accuracy, recall, precision, f1 score and confusion matrix.\n"
   ]
  },
  {
   "cell_type": "markdown",
   "id": "465b1420",
   "metadata": {},
   "source": [
    "#### 4.3.1 Random Forest"
   ]
  },
  {
   "cell_type": "code",
   "execution_count": 59,
   "id": "19014993",
   "metadata": {},
   "outputs": [
    {
     "name": "stdout",
     "output_type": "stream",
     "text": [
      "Fitting 4 folds for each of 48 candidates, totalling 192 fits\n"
     ]
    },
    {
     "data": {
      "text/plain": [
       "GridSearchCV(cv=4, estimator=RandomForestClassifier(n_jobs=-1, random_state=42),\n",
       "             n_jobs=-1,\n",
       "             param_grid={'max_depth': [5, 10, 20],\n",
       "                         'min_samples_leaf': [5, 10, 20, 50],\n",
       "                         'n_estimators': [30, 50, 100, 200]},\n",
       "             scoring='accuracy', verbose=1)"
      ]
     },
     "execution_count": 59,
     "metadata": {},
     "output_type": "execute_result"
    }
   ],
   "source": [
    "# Let’s do hyperparameter tuning for Random Forest using GridSearchCV and fit the data.\n",
    "rf = RandomForestClassifier(random_state=42, n_jobs=-1)\n",
    "params = {\n",
    "    'max_depth': [5,10,20],\n",
    "    'min_samples_leaf': [5,10,20,50],\n",
    "    'n_estimators': [30,50,100,200]\n",
    "}\n",
    "\n",
    "# Instantiate the grid search model\n",
    "grid_search = GridSearchCV(estimator=rf,\n",
    "                           param_grid=params,\n",
    "                           cv = 4,\n",
    "                           n_jobs=-1, verbose=1, scoring=\"accuracy\")\n",
    "grid_search.fit(X, train.label)\n"
   ]
  },
  {
   "cell_type": "code",
   "execution_count": 60,
   "id": "10060f36",
   "metadata": {},
   "outputs": [
    {
     "name": "stdout",
     "output_type": "stream",
     "text": [
      "\n",
      "Random Forest best score: 96.716%\n",
      "\n",
      "Random Forest best model: RandomForestClassifier(max_depth=20, min_samples_leaf=5, n_estimators=200,\n",
      "                       n_jobs=-1, random_state=42)\n"
     ]
    }
   ],
   "source": [
    "# get the best score\n",
    "rf_best_score = grid_search.best_score_\n",
    "print(\"\\nRandom Forest best score: {:.3f}%\".format(rf_best_score*100))\n",
    "\n",
    "# best model\n",
    "rf_best = grid_search.best_estimator_\n",
    "print(\"\\nRandom Forest best model:\", rf_best)"
   ]
  },
  {
   "cell_type": "markdown",
   "id": "5c2e3619",
   "metadata": {},
   "source": [
    "After getting the best Random Forest model, now I will use it to predict test data. \n",
    " "
   ]
  },
  {
   "cell_type": "code",
   "execution_count": 61,
   "id": "07f1be7c",
   "metadata": {},
   "outputs": [],
   "source": [
    "# set up the model pipeline\n",
    "from sklearn.pipeline import Pipeline\n",
    "from sklearn.metrics import accuracy_score, recall_score, precision_score, f1_score\n",
    "def pipeline_func(vectorizer, clf):\n",
    "    pipeline = Pipeline(\n",
    "        [\n",
    "            ('vect', vectorizer),\n",
    "            ('clf', clf)\n",
    "        ]\n",
    "    )\n",
    "\n",
    "    # fit and predict for test set\n",
    "    pipeline.fit(train.text, train.label)\n",
    "    y_pred = pipeline.predict(test.text)\n",
    "\n",
    "    # calculate accuracy\n",
    "    accuracy_test = accuracy_score(test.label, y_pred)\n",
    "    #rmse_test = np.sqrt(mean_squared_error(test.label, y_pred))\n",
    "    recall_test = recall_score(test.label, y_pred, pos_label=\"true\")\n",
    "    pre_test = precision_score(test.label, y_pred, pos_label=\"true\")\n",
    "    f1_test = f1_score(test.label, y_pred, pos_label=\"true\")\n",
    "    cm = confusion_matrix(test.label, y_pred)\n",
    "    disp = ConfusionMatrixDisplay(confusion_matrix=cm)\n",
    "    return accuracy_test, recall_test, pre_test, f1_test, disp"
   ]
  },
  {
   "cell_type": "markdown",
   "id": "d3c7a95c",
   "metadata": {},
   "source": [
    "Recall score is used to measure the model performance in terms of measuring the count of true positives in a correct manner out of all the actual positive values"
   ]
  },
  {
   "cell_type": "code",
   "execution_count": 67,
   "id": "0272f873",
   "metadata": {},
   "outputs": [],
   "source": [
    "# fit model and predict test data\n",
    "rf_acc, rf_recall, rf_pre, rf_f1, rf_disp = pipeline_func(vectorizer, rf_best)\n"
   ]
  },
  {
   "cell_type": "code",
   "execution_count": 68,
   "id": "0576c10b",
   "metadata": {},
   "outputs": [
    {
     "name": "stdout",
     "output_type": "stream",
     "text": [
      "\n",
      "Accuracy for test set based on best Random Forest model: 0.955\n",
      "\n",
      "Recall score for test set based on best Random Forest model: 0.923\n",
      "\n",
      "Precision score for test set based on best Random Forest model: 0.981\n",
      "\n",
      "F1 score for test set based on best Random Forest model: 0.923\n",
      "\n",
      "Figure 12. Random Forest - Confusion matrix for test set\n"
     ]
    },
    {
     "data": {
      "image/png": "[encoded data removed]",
      "text/plain": [
       "<Figure size 432x288 with 2 Axes>"
      ]
     },
     "metadata": {
      "needs_background": "light"
     },
     "output_type": "display_data"
    }
   ],
   "source": [
    "print('\\nAccuracy for test set based on best Random Forest model: {:.3f}'.format(rf_acc))\n",
    "print('\\nRecall score for test set based on best Random Forest model: {:.3f}'.format(rf_recall))\n",
    "print('\\nPrecision score for test set based on best Random Forest model: {:.3f}'.format(rf_pre))\n",
    "print('\\nF1 score for test set based on best Random Forest model: {:.3f}'.format(rf_recall))\n",
    "print('\\nFigure 12. Random Forest - Confusion matrix for test set')\n",
    "rf_disp.plot()\n",
    "plt.show()"
   ]
  },
  {
   "cell_type": "markdown",
   "id": "aef230b1",
   "metadata": {},
   "source": [
    "From the confusion matrix for test set based on best Random Forest model, we can summarize that:  \n",
    "\n",
    "+ Our model predicted that 4900/8838 articles are fake news when there were actually 4654/8838 articles with fake news.  \n",
    "\n",
    "+ Our model has an accuracy of 8442/8838 or 95.519%\n"
   ]
  },
  {
   "cell_type": "markdown",
   "id": "c3b1d05d",
   "metadata": {},
   "source": [
    "#### 4.3.2 Other supervised machine learning"
   ]
  },
  {
   "cell_type": "markdown",
   "id": "733d62c7",
   "metadata": {},
   "source": [
    "After finding the best Random Forest model, now I would like to run some other models such as: Logistic Regression and Decision Tree as well.  \n"
   ]
  },
  {
   "cell_type": "markdown",
   "id": "719376bd",
   "metadata": {},
   "source": [
    "##### Logistic Regression"
   ]
  },
  {
   "cell_type": "code",
   "execution_count": 63,
   "id": "2da4947f",
   "metadata": {},
   "outputs": [],
   "source": [
    "# fit model and predict test data\n",
    "log_acc, log_recall, log_pre, log_f1, log_disp = pipeline_func(vectorizer, LogisticRegression())\n",
    " "
   ]
  },
  {
   "cell_type": "code",
   "execution_count": 70,
   "id": "2115a0fb",
   "metadata": {},
   "outputs": [
    {
     "name": "stdout",
     "output_type": "stream",
     "text": [
      "\n",
      "Accuracy for test set based on Logistic Regression model: 0.989\n",
      "\n",
      "Recall score for test set based on Logistic Regression model: 0.992\n",
      "\n",
      "Precision score for test set based on Logistic Regression model: 0.984\n",
      "\n",
      "F1 score for test set based on Logistic Regression model: 0.988\n",
      "\n",
      "Figure 13. Logistic Regression - Confusion matrix for test set\n"
     ]
    },
    {
     "data": {
      "image/png": "[encoded data removed]",
      "text/plain": [
       "<Figure size 432x288 with 2 Axes>"
      ]
     },
     "metadata": {
      "needs_background": "light"
     },
     "output_type": "display_data"
    }
   ],
   "source": [
    "print('\\nAccuracy for test set based on Logistic Regression model: {:.3f}'.format(log_acc))\n",
    "print('\\nRecall score for test set based on Logistic Regression model: {:.3f}'.format(log_recall))\n",
    "print('\\nPrecision score for test set based on Logistic Regression model: {:.3f}'.format(log_pre))\n",
    "print('\\nF1 score for test set based on Logistic Regression model: {:.3f}'.format(log_f1))\n",
    "print('\\nFigure 13. Logistic Regression - Confusion matrix for test set')\n",
    "log_disp.plot()\n",
    "plt.show()\n"
   ]
  },
  {
   "cell_type": "markdown",
   "id": "0d69be26",
   "metadata": {},
   "source": [
    "Looking at Figure 13, we can summarize:  \n",
    "\n",
    "+ Our model predicted that 4621/8838 articles are fake news when there were actually 4654/8838 articles with fake news.  \n",
    "\n",
    "+ Our model has an accuracy of 8739/8838 or 98.880%\n"
   ]
  },
  {
   "cell_type": "markdown",
   "id": "6c489408",
   "metadata": {},
   "source": [
    "##### Decision Tree Classifier"
   ]
  },
  {
   "cell_type": "code",
   "execution_count": 65,
   "id": "934c7b1d",
   "metadata": {},
   "outputs": [],
   "source": [
    "# fit model and predict test data\n",
    "dt_acc, dt_recall, dt_pre, dt_f1, dt_disp = pipeline_func(vectorizer, DecisionTreeClassifier())\n",
    " "
   ]
  },
  {
   "cell_type": "code",
   "execution_count": 71,
   "id": "839fdcca",
   "metadata": {},
   "outputs": [
    {
     "name": "stdout",
     "output_type": "stream",
     "text": [
      "\n",
      "Accuracy for test set based on Decision Tree Classifier model: 0.996\n",
      "\n",
      "Recall score for test set based on Decision Tree Classifier model: 0.994\n",
      "\n",
      "Precision score for test set based on Decision Tree Classifier model: 0.996\n",
      "\n",
      "F1 score for test set based on Decision Tree Classifier model: 0.995\n",
      "\n",
      "Figure 14. Decision Tree Classifier - Confusion matrix for test set\n"
     ]
    },
    {
     "data": {
      "image/png": "[encoded data removed]",
      "text/plain": [
       "<Figure size 432x288 with 2 Axes>"
      ]
     },
     "metadata": {
      "needs_background": "light"
     },
     "output_type": "display_data"
    }
   ],
   "source": [
    "print('\\nAccuracy for test set based on Decision Tree Classifier model: {:.3f}'.format(dt_acc))\n",
    "print('\\nRecall score for test set based on Decision Tree Classifier model: {:.3f}'.format(dt_recall))\n",
    "print('\\nPrecision score for test set based on Decision Tree Classifier model: {:.3f}'.format(dt_pre))\n",
    "print('\\nF1 score for test set based on Decision Tree Classifier model: {:.3f}'.format(dt_f1))\n",
    "print('\\nFigure 14. Decision Tree Classifier - Confusion matrix for test set')\n",
    "dt_disp.plot()\n",
    "plt.show()\n"
   ]
  },
  {
   "cell_type": "markdown",
   "id": "3bfb391f",
   "metadata": {},
   "source": [
    "Looking at Figure 14, we can summarize:  \n",
    "\n",
    "+ Our model predicted that 4661/8838 articles are fake news when there were actually 4654/8838 articles with fake news.  \n",
    "\n",
    "+ Our model has an accuracy of 8797/8838 or 99.536%"
   ]
  },
  {
   "cell_type": "markdown",
   "id": "f4d448f8",
   "metadata": {},
   "source": [
    "#### 4.3.3 Compare supervised machine learning models"
   ]
  },
  {
   "cell_type": "code",
   "execution_count": 72,
   "id": "ffc26df3",
   "metadata": {},
   "outputs": [
    {
     "name": "stdout",
     "output_type": "stream",
     "text": [
      "Compare supervised machine learning models on test data: \n"
     ]
    },
    {
     "data": {
      "text/html": [
       "<div>\n",
       "<style scoped>\n",
       "    .dataframe tbody tr th:only-of-type {\n",
       "        vertical-align: middle;\n",
       "    }\n",
       "\n",
       "    .dataframe tbody tr th {\n",
       "        vertical-align: top;\n",
       "    }\n",
       "\n",
       "    .dataframe thead th {\n",
       "        text-align: right;\n",
       "    }\n",
       "</style>\n",
       "<table border=\"1\" class=\"dataframe\">\n",
       "  <thead>\n",
       "    <tr style=\"text-align: right;\">\n",
       "      <th></th>\n",
       "      <th>Model</th>\n",
       "      <th>Accuracy</th>\n",
       "      <th>Recall</th>\n",
       "      <th>Precision</th>\n",
       "      <th>F1</th>\n",
       "    </tr>\n",
       "  </thead>\n",
       "  <tbody>\n",
       "    <tr>\n",
       "      <th>0</th>\n",
       "      <td>Decision Tree</td>\n",
       "      <td>0.995587</td>\n",
       "      <td>0.994264</td>\n",
       "      <td>0.996407</td>\n",
       "      <td>0.995334</td>\n",
       "    </tr>\n",
       "    <tr>\n",
       "      <th>1</th>\n",
       "      <td>Logistic Regression</td>\n",
       "      <td>0.988798</td>\n",
       "      <td>0.992113</td>\n",
       "      <td>0.984349</td>\n",
       "      <td>0.988216</td>\n",
       "    </tr>\n",
       "    <tr>\n",
       "      <th>2</th>\n",
       "      <td>Random Forest</td>\n",
       "      <td>0.955193</td>\n",
       "      <td>0.923279</td>\n",
       "      <td>0.980955</td>\n",
       "      <td>0.951244</td>\n",
       "    </tr>\n",
       "  </tbody>\n",
       "</table>\n",
       "</div>"
      ],
      "text/plain": [
       "                 Model  Accuracy    Recall  Precision        F1\n",
       "0        Decision Tree  0.995587  0.994264   0.996407  0.995334\n",
       "1  Logistic Regression  0.988798  0.992113   0.984349  0.988216\n",
       "2        Random Forest  0.955193  0.923279   0.980955  0.951244"
      ]
     },
     "metadata": {},
     "output_type": "display_data"
    }
   ],
   "source": [
    "# create unsupervised dataframe to compare NMF and Kmeans model on test data\n",
    "super_models = {'Model': [\"Random Forest\", \"Logistic Regression\", \"Decision Tree\"],\n",
    "        'Accuracy': [rf_acc, log_acc, dt_acc],\n",
    "        'Recall': [rf_recall, log_recall, dt_recall],\n",
    "        'Precision': [rf_pre, log_pre, dt_pre],\n",
    "        'F1': [rf_f1, log_f1, dt_f1],}\n",
    "super_data = pd.DataFrame(super_models)\n",
    "super_data = super_data.sort_values(by='Accuracy', ascending = False, ignore_index=True)\n",
    "print(\"Compare supervised machine learning models on test data: \")\n",
    "display(super_data)\n"
   ]
  },
  {
   "cell_type": "markdown",
   "id": "9152d7d4",
   "metadata": {},
   "source": [
    "We observe that Decision Tree Classifier is the best supervised model with highest accuracy, recall, precison and f1 score."
   ]
  },
  {
   "cell_type": "markdown",
   "id": "8576f3c2",
   "metadata": {},
   "source": [
    "### 4.4 Compare Unsupervised  and Supervised Machine Learning models"
   ]
  },
  {
   "cell_type": "code",
   "execution_count": 74,
   "id": "68ff0ca6",
   "metadata": {},
   "outputs": [
    {
     "name": "stdout",
     "output_type": "stream",
     "text": [
      "Compare unsupervised and supervised machine learning models on test data: \n"
     ]
    },
    {
     "data": {
      "text/html": [
       "<div>\n",
       "<style scoped>\n",
       "    .dataframe tbody tr th:only-of-type {\n",
       "        vertical-align: middle;\n",
       "    }\n",
       "\n",
       "    .dataframe tbody tr th {\n",
       "        vertical-align: top;\n",
       "    }\n",
       "\n",
       "    .dataframe thead th {\n",
       "        text-align: right;\n",
       "    }\n",
       "</style>\n",
       "<table border=\"1\" class=\"dataframe\">\n",
       "  <thead>\n",
       "    <tr style=\"text-align: right;\">\n",
       "      <th></th>\n",
       "      <th>Model</th>\n",
       "      <th>Accuracy</th>\n",
       "    </tr>\n",
       "  </thead>\n",
       "  <tbody>\n",
       "    <tr>\n",
       "      <th>0</th>\n",
       "      <td>Decision Tree</td>\n",
       "      <td>0.995587</td>\n",
       "    </tr>\n",
       "    <tr>\n",
       "      <th>1</th>\n",
       "      <td>Logistic Regression</td>\n",
       "      <td>0.988798</td>\n",
       "    </tr>\n",
       "    <tr>\n",
       "      <th>2</th>\n",
       "      <td>Random Forest</td>\n",
       "      <td>0.955193</td>\n",
       "    </tr>\n",
       "    <tr>\n",
       "      <th>3</th>\n",
       "      <td>Kmeans</td>\n",
       "      <td>0.913329</td>\n",
       "    </tr>\n",
       "    <tr>\n",
       "      <th>4</th>\n",
       "      <td>NMF</td>\n",
       "      <td>0.836615</td>\n",
       "    </tr>\n",
       "  </tbody>\n",
       "</table>\n",
       "</div>"
      ],
      "text/plain": [
       "                 Model  Accuracy\n",
       "0        Decision Tree  0.995587\n",
       "1  Logistic Regression  0.988798\n",
       "2        Random Forest  0.955193\n",
       "3               Kmeans  0.913329\n",
       "4                  NMF  0.836615"
      ]
     },
     "metadata": {},
     "output_type": "display_data"
    }
   ],
   "source": [
    "# create unsupervised dataframe to compare NMF and Kmeans model on test data\n",
    "models = {'Model': [\"NMF\", \"Kmeans\", \"Random Forest\", \"Logistic Regression\", \"Decision Tree\"],\n",
    "        'Accuracy': [accuracy_test, accuracy_test_kmeans, rf_acc, log_acc, dt_acc]}\n",
    "\n",
    "data = pd.DataFrame(models)\n",
    "data = data.sort_values(by='Accuracy', ascending = False, ignore_index=True)\n",
    "print(\"Compare unsupervised and supervised machine learning models on test data: \")\n",
    "display(data)\n"
   ]
  },
  {
   "cell_type": "markdown",
   "id": "5a9b8aa2",
   "metadata": {},
   "source": [
    "Looking at table above, we can see that, in overall, supervised machine learning algorithms show a better performance compare with unsupervised machine learning algorithms and in this project, Decision Tree is the best model."
   ]
  },
  {
   "cell_type": "markdown",
   "id": "30161503",
   "metadata": {},
   "source": [
    "### 4.5 Use supervised models to predict new text data without label"
   ]
  },
  {
   "cell_type": "code",
   "execution_count": 76,
   "id": "701c9e8c",
   "metadata": {},
   "outputs": [
    {
     "name": "stdout",
     "output_type": "stream",
     "text": [
      "\"Daniel Greenfield, a Shillman Journalism Fellow at the Freedom Center, is a New York writer focusing on radical Islam.  In the final stretch of the election, Hillary Rodham Clinton has gone to war with the FBI.  The word “unprecedented” has been thrown around so often this election that it ought to be retired. But it’s still unprecedented for the nominee of a major political party to go war with the FBI.  But that’s exactly what Hillary and her people have done. Coma patients just waking up now and watching an hour of CNN from their hospital beds would assume that FBI Director James Comey is Hillary’s opponent in this election.  The FBI is under attack by everyone from Obama to CNN. Hillary’s people have circulated a letter attacking Comey. There are currently more media hit pieces lambasting him than targeting Trump. It wouldn’t be too surprising if the Clintons or their allies were to start running attack ads against the FBI.  The FBI’s leadership is being warned that the entire left-wing establishment will form a lynch mob if they continue going after Hillary. And the FBI’s credibility is being attacked by the media and the Democrats to preemptively head off the results of the investigation of the Clinton Foundation and Hillary Clinton.  The covert struggle between FBI agents and Obama’s DOJ people has gone explosively public.  The New York Times has compared Comey to J. Edgar Hoover. Its bizarre headline, “James Comey Role Recalls Hoover’s FBI, Fairly or Not” practically admits up front that it’s spouting nonsense. The Boston Globe has published a column calling for Comey’s resignation. Not to be outdone, Time has an editorial claiming that the scandal is really an attack on all women.  James Carville appeared on MSNBC to remind everyone that he was still alive and insane. He accused Comey of coordinating with House Republicans and the KGB. And you thought the “vast right wing conspiracy” was a stretch.  Countless media stories charge Comey with violating procedure. Do you know what’s a procedural violation? Emailing classified information stored on your bathroom server.  Senator Harry Reid has sent Comey a letter accusing him of violating the Hatch Act. The Hatch Act is a nice idea that has as much relevance in the age of Obama as the Tenth Amendment. But the cable news spectrum quickly filled with media hacks glancing at the Wikipedia article on the Hatch Act under the table while accusing the FBI director of one of the most awkward conspiracies against Hillary ever.  If James Comey is really out to hurt Hillary, he picked one hell of a strange way to do it.  Not too long ago Democrats were breathing a sigh of relief when he gave Hillary Clinton a pass in a prominent public statement. If he really were out to elect Trump by keeping the email scandal going, why did he trash the investigation? Was he on the payroll of House Republicans and the KGB back then and playing it coy or was it a sudden development where Vladimir Putin and Paul Ryan talked him into taking a look at Anthony Weiner’s computer?  Either Comey is the most cunning FBI director that ever lived or he’s just awkwardly trying to navigate a political mess that has trapped him between a DOJ leadership whose political futures are tied to Hillary’s victory and his own bureau whose apolitical agents just want to be allowed to do their jobs.  The only truly mysterious thing is why Hillary and her associates decided to go to war with a respected Federal agency. Most Americans like the FBI while Hillary Clinton enjoys a 60% unfavorable rating.  And it’s an interesting question.  Hillary’s old strategy was to lie and deny that the FBI even had a criminal investigation underway. Instead her associates insisted that it was a security review. The FBI corrected her and she shrugged it off. But the old breezy denial approach has given way to a savage assault on the FBI.  Pretending that nothing was wrong was a bad strategy, but it was a better one that picking a fight with the FBI while lunatic Clinton associates try to claim that the FBI is really the KGB.  There are two possible explanations.  Hillary Clinton might be arrogant enough to lash out at the FBI now that she believes that victory is near. The same kind of hubris that led her to plan her victory fireworks display could lead her to declare a war on the FBI for irritating her during the final miles of her campaign.  But the other explanation is that her people panicked.  Going to war with the FBI is not the behavior of a smart and focused presidential campaign. It’s an act of desperation. When a presidential candidate decides that her only option is to try and destroy the credibility of the FBI, that’s not hubris, it’s fear of what the FBI might be about to reveal about her.  During the original FBI investigation, Hillary Clinton was confident that she could ride it out. And she had good reason for believing that. But that Hillary Clinton is gone. In her place is a paranoid wreck. Within a short space of time the “positive” Clinton campaign promising to unite the country has been replaced by a desperate and flailing operation that has focused all its energy on fighting the FBI.  There’s only one reason for such bizarre behavior.  The Clinton campaign has decided that an FBI investigation of the latest batch of emails poses a threat to its survival. And so it’s gone all in on fighting the FBI. It’s an unprecedented step born of fear. It’s hard to know whether that fear is justified. But the existence of that fear already tells us a whole lot.  Clinton loyalists rigged the old investigation. They knew the outcome ahead of time as well as they knew the debate questions. Now suddenly they are no longer in control. And they are afraid.  You can smell the fear.  The FBI has wiretaps from the investigation of the Clinton Foundation. It’s finding new emails all the time. And Clintonworld panicked. The spinmeisters of Clintonworld have claimed that the email scandal is just so much smoke without fire. All that’s here is the appearance of impropriety without any of the substance. But this isn’t how you react to smoke. It’s how you respond to a fire.  The misguided assault on the FBI tells us that Hillary Clinton and her allies are afraid of a revelation bigger than the fundamental illegality of her email setup. The email setup was a preemptive cover up. The Clinton campaign has panicked badly out of the belief, right or wrong, that whatever crime the illegal setup was meant to cover up is at risk of being exposed.  The Clintons have weathered countless scandals over the years. Whatever they are protecting this time around is bigger than the usual corruption, bribery, sexual assaults and abuses of power that have followed them around throughout the years. This is bigger and more damaging than any of the allegations that have already come out. And they don’t want FBI investigators anywhere near it.  The campaign against Comey is pure intimidation. It’s also a warning. Any senior FBI people who value their careers are being warned to stay away. The Democrats are closing ranks around their nominee against the FBI. It’s an ugly and unprecedented scene. It may also be their last stand.  Hillary Clinton has awkwardly wound her way through numerous scandals in just this election cycle. But she’s never shown fear or desperation before. Now that has changed. Whatever she is afraid of, it lies buried in her emails with Huma Abedin. And it can bring her down like nothing else has.\"\n"
     ]
    }
   ],
   "source": [
    "news = str(input())\n"
   ]
  },
  {
   "cell_type": "code",
   "execution_count": 77,
   "id": "49180f93",
   "metadata": {},
   "outputs": [],
   "source": [
    "# create dataframe of new data\n",
    "news_dic = {\"text\": news}\n",
    "new_data = pd.DataFrame([news_dic])\n"
   ]
  },
  {
   "cell_type": "code",
   "execution_count": 78,
   "id": "65bb948d",
   "metadata": {},
   "outputs": [
    {
     "data": {
      "text/plain": [
       "'daniel greenfield shillman journalism fellow freedom center new york writer focusing radical islam final stretch election hillary rodham clinton gone war fbi word unprecedented thrown around often election ought retired still unprecedented nominee major political party go war fbi thats exactly hillary people done coma patient waking watching hour cnn hospital bed would assume fbi director james comey hillary opponent election fbi attack everyone obama cnn hillary people circulated letter attacking comey currently medium hit piece lambasting targeting trump wouldnt surprising clinton ally start running attack ad fbi fbi leadership warned entire leftwing establishment form lynch mob continue going hillary fbi credibility attacked medium democrat preemptively head result investigation clinton foundation hillary clinton covert struggle fbi agent obamas doj people gone explosively public new york time compared comey j edgar hoover bizarre headline james comey role recall hoover fbi fairly practically admits front spouting nonsense boston globe published column calling comeys resignation outdone time editorial claiming scandal really attack woman james carville appeared msnbc remind everyone still alive insane accused comey coordinating house republican kgb thought vast right wing conspiracy stretch countless medium story charge comey violating procedure know whats procedural violation emailing classified information stored bathroom server senator harry reid sent comey letter accusing violating hatch act hatch act nice idea much relevance age obama tenth amendment cable news spectrum quickly filled medium hack glancing wikipedia article hatch act table accusing fbi director one awkward conspiracy hillary ever james comey really hurt hillary picked one hell strange way long ago democrat breathing sigh relief gave hillary clinton pas prominent public statement really elect trump keeping email scandal going trash investigation payroll house republican kgb back playing coy sudden development vladimir putin paul ryan talked taking look anthony weiners computer either comey cunning fbi director ever lived he awkwardly trying navigate political mess trapped doj leadership whose political future tied hillary victory bureau whose apolitical agent want allowed job truly mysterious thing hillary associate decided go war respected federal agency american like fbi hillary clinton enjoys 60 unfavorable rating interesting question hillary old strategy lie deny fbi even criminal investigation underway instead associate insisted security review fbi corrected shrugged old breezy denial approach given way savage assault fbi pretending nothing wrong bad strategy better one picking fight fbi lunatic clinton associate try claim fbi really kgb two possible explanation hillary clinton might arrogant enough lash fbi belief victory near kind hubris led plan victory firework display could lead declare war fbi irritating final mile campaign explanation people panicked going war fbi behavior smart focused presidential campaign act desperation presidential candidate decides option try destroy credibility fbi thats hubris fear fbi might reveal original fbi investigation hillary clinton confident could ride good reason believing hillary clinton gone place paranoid wreck within short space time positive clinton campaign promising unite country replaced desperate flailing operation focused energy fighting fbi there one reason bizarre behavior clinton campaign decided fbi investigation latest batch email pose threat survival gone fighting fbi unprecedented step born fear hard know whether fear justified existence fear already tell u whole lot clinton loyalist rigged old investigation knew outcome ahead time well knew debate question suddenly longer control afraid smell fear fbi wiretap investigation clinton foundation finding new email time clintonworld panicked spinmeister clintonworld claimed email scandal much smoke without fire thats appearance impropriety without substance isnt react smoke respond fire misguided assault fbi tell u hillary clinton ally afraid revelation bigger fundamental illegality email setup email setup preemptive cover clinton campaign panicked badly belief right wrong whatever crime illegal setup meant cover risk exposed clinton weathered countless scandal year whatever protecting time around bigger usual corruption bribery sexual assault abuse power followed around throughout year bigger damaging allegation already come dont want fbi investigator anywhere near campaign comey pure intimidation also warning senior fbi people value career warned stay away democrat closing rank around nominee fbi ugly unprecedented scene may also last stand hillary clinton awkwardly wound way numerous scandal election cycle shes never shown fear desperation changed whatever afraid lie buried email huma abedin bring like nothing else'"
      ]
     },
     "execution_count": 78,
     "metadata": {},
     "output_type": "execute_result"
    }
   ],
   "source": [
    "# clean news data\n",
    "clean_text(new_data, \"text\")\n",
    "\n",
    "# view new data after cleaning\n",
    "new_data[\"text\"][0]"
   ]
  },
  {
   "cell_type": "markdown",
   "id": "29068181",
   "metadata": {},
   "source": [
    "#### Use supervised machine learning to predict new unlabeled data"
   ]
  },
  {
   "cell_type": "code",
   "execution_count": 79,
   "id": "c1c404f5",
   "metadata": {},
   "outputs": [],
   "source": [
    "def new_pipeline_func(vectorizer, clf):\n",
    "    pipeline = Pipeline(\n",
    "        [\n",
    "            ('vect', vectorizer),\n",
    "            ('clf', clf)\n",
    "        ]\n",
    "    )\n",
    "\n",
    "    # fit and predict test set\n",
    "    pipeline.fit(train.text, train.label)\n",
    "    y_pred = pipeline.predict(new_data.text)\n",
    "    return y_pred"
   ]
  },
  {
   "cell_type": "code",
   "execution_count": 80,
   "id": "f74dc066",
   "metadata": {},
   "outputs": [],
   "source": [
    "# random forest\n",
    "rf_pred = new_pipeline_func(vectorizer, rf_best)\n",
    "\n",
    "# logistic regression\n",
    "log_pred = new_pipeline_func(vectorizer, LogisticRegression())\n",
    "\n",
    "# decison tree\n",
    "dt_pred = new_pipeline_func(vectorizer, DecisionTreeClassifier())"
   ]
  },
  {
   "cell_type": "code",
   "execution_count": 81,
   "id": "bd4c0dd7",
   "metadata": {},
   "outputs": [
    {
     "name": "stdout",
     "output_type": "stream",
     "text": [
      "Random Forest Prediction:  fake\n",
      "Logistic Regression Prediction:  fake\n",
      "Decision Tree Prediction:  fake\n"
     ]
    }
   ],
   "source": [
    "print(\"Random Forest Prediction: \", rf_pred[0])\n",
    "print(\"Logistic Regression Prediction: \", log_pred[0])\n",
    "print(\"Decision Tree Prediction: \", dt_pred[0])"
   ]
  },
  {
   "cell_type": "markdown",
   "id": "ff754c7b",
   "metadata": {},
   "source": [
    "## Step 5: Summary"
   ]
  },
  {
   "cell_type": "markdown",
   "id": "3155fa0a",
   "metadata": {},
   "source": [
    "In this project, there are 5 parts:  \n",
    "\n",
    "(1) Gather data, determine the method of data collection and provenance of the data.     \n",
    "(2) Identify Unsupervised Learning Problem.  \n",
    "(3) EDA - Inspect, Visualize, and Clean the data.   \n",
    "(4) Building and training models:  \n",
    "+ NMF  \n",
    "+ Kmeans  \n",
    "+ Random Forest  \n",
    "+ Logistic Regression  \n",
    "+ Decision Tree\n",
    "        \n",
    "(5) Summary     \n",
    "\n",
    "The goal of this project is to detect fake news, to help news readers to identify bias and misinformation in news articles in a quick and reliable fashion. By comparing two unsupervised and three supervised learning algorithms, we can conclude that, in this project:\n",
    "\n",
    "* in overall, supervised learning algorithms have better performance compare with unsupervised learning algorithms.   \n",
    "* Decision Tree Classifier is the best model with the highest accuracy score on the test set 99.5%.      \n",
    "* Logistic Regression model is the second best model with the accuracy score on the test set 98.9%.     \n",
    "\n",
    "* Compare between two unsupervised learning models, Kmeans performance is better than NMF with the accuracy score on the test set 91.3% and 83.7% for NMF.  \n",
    "    \n",
    "Finally, I used supervised learning models, included Random Forest, Logistic Regression and Decision Tree to predict new unlabeled data and all three models predict new data is fake.  \n",
    "\n",
    "Because of the limitation of data and the running time was too costly, the models just were trained on limited data and limited approach. I think there are many other ways can improve this kind of project such as: building more unsupervised models by tuning hyperparameters to get optimal results, or use other type of Word Embeddings such as: Tokenization, Bag-of-Words or Count Vectorizer. Besides that, I could not test models on more new data because of the costly running time.\n"
   ]
  },
  {
   "cell_type": "code",
   "execution_count": null,
   "id": "bc012b06",
   "metadata": {},
   "outputs": [],
   "source": []
  }
 ],
 "metadata": {
  "kernelspec": {
   "display_name": "Python 3 (ipykernel)",
   "language": "python",
   "name": "python3"
  },
  "language_info": {
   "codemirror_mode": {
    "name": "ipython",
    "version": 3
   },
   "file_extension": ".py",
   "mimetype": "text/x-python",
   "name": "python",
   "nbconvert_exporter": "python",
   "pygments_lexer": "ipython3",
   "version": "3.9.7"
  }
 },
 "nbformat": 4,
 "nbformat_minor": 5
}
